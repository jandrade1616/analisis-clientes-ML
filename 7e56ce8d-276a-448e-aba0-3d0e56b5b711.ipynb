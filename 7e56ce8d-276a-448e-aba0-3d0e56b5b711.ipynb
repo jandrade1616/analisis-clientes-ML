{
 "cells": [
  {
   "cell_type": "markdown",
   "metadata": {},
   "source": [
    "# Hola &#x1F600;,\n",
    "\n",
    "Soy **Hesus Garcia** – **\"Soy el único Hesus que conoces (y probablemente conocerás) 🌟\"** – Sí, como \"Jesús\", pero con una H que me hace único. Puede sonar raro, pero créeme, ¡no lo olvidarás! Como tu revisor en Triple-Ten, estoy aquí para guiarte y ayudarte a mejorar tu código. Si algo necesita un ajuste, no hay de qué preocuparse; ¡aquí estoy para hacer que tu trabajo brille con todo su potencial! ✨\n",
    "\n",
    "Cada vez que encuentre un detalle importante en tu código, te lo señalaré para que puedas corregirlo y así te prepares para un ambiente de trabajo real, donde el líder de tu equipo actuaría de manera similar. Si en algún momento no logras solucionar el problema, te daré más detalles para ayudarte en nuestra próxima oportunidad de revisión.\n",
    "\n",
    "Es importante que cuando encuentres un comentario, **no los muevas, no los modifiques, ni los borres**.\n",
    "\n",
    "---\n",
    "\n"
    "### Formato de Comentarios\n",
    "\n",
    "Revisaré cuidadosamente cada implementación en tu notebook para asegurar que cumpla con los requisitos y te daré comentarios de acuerdo al siguiente formato:\n",
    "\n",
    "\n",
    "<div class=\"alert alert-block alert-success\">\n",
    "<b>Comentario del revisor</b> <a class=\"tocSkip\"></a><br>\n",
    "    \n",
    "<b>Éxito</b> - ¡Excelente trabajo! Esta parte está bien implementada y contribuye significativamente al análisis de datos o al proyecto. Continúa aplicando estas buenas prácticas en futuras secciones.\n",
    "    \n",
    "</div>\n",
    "\n",
    "<div class=\"alert alert-block alert-warning\">\n",
    "<b>Comentario del revisor</b> <a class=\"tocSkip\"></a><br>\n",
    "    \n",
    "<b>Atención</b> ⚠️ - Este código está correcto, pero se puede optimizar. Considera implementar mejoras para que sea más eficiente y fácil de leer. Esto fortalecerá la calidad de tu proyecto.\n",
    "    \n",
    "</div>\n",
    "\n",
    "<div class=\"alert alert-block alert-danger\">\n",
    "<b>Comentario del revisor</b> <a class=\"tocSkip\"></a><br>\n",
    "    \n",
    "<b>A resolver</b> ❗ - Aquí hay un problema o error en el código que es necesario corregir para aprobar esta sección. Por favor, revisa y corrige este punto, ya que es fundamental para la validez del análisis y la precisión de los resultados.\n",
    "    \n",
    "</div>\n",
    "\n",
    "---\n",
    "\n",
    "Al final de cada revisión, recibirás un **Comentario General del Revisor** que incluirá:\n",
    "\n",
    "- **Aspectos positivos:** Un resumen de los puntos fuertes de tu proyecto.\n",
    "- **Áreas de mejora:** Sugerencias sobre aspectos donde puedes mejorar.\n",
    "- **Temas adicionales para investigar:** Ideas de temas opcionales que puedes explorar por tu cuenta para desarrollar aún más tus habilidades.\n",
    "\n",
    "Estos temas adicionales no son obligatorios en esta etapa, pero pueden serte útiles para profundizar en el futuro.\n",
    "\n",
    "---\n",
    "\n",
    "\n",
    "Esta estructura en viñetas facilita la lectura y comprensión de cada parte del comentario final.\n",
    "\n",
    "También puedes responderme de la siguiente manera si tienes alguna duda o quieres aclarar algo específico:\n",
    "\n",
    "\n",
    "<div class=\"alert alert-block alert-info\">\n",
    "<b>Respuesta del estudiante</b> <a class=\"tocSkip\"></a>\n",
    "    \n",
    "Aquí puedes escribir tu respuesta o pregunta sobre el comentario.\n",
    "    \n",
    "</div>\n",
    "\n",
    "\n",
    "**¡Empecemos!** &#x1F680;\n"
   ]
  },
  {
   "cell_type": "markdown",
   "metadata": {},
   "source": [
    "# 2. Código de solución\n",
    "\n",
    "Sube el código de tu solución.\n",
    "\n",
    "Estos son algunos de los criterios que utilizan los revisores del proyecto:\n",
    "\n",
    "- ¿Realizaste todos los pasos?\n",
    "- ¿La solución coincide con la condición de la tarea?\n",
    "- ¿Entrenaste y probaste correctamente el modelo?\n",
    "- ¿Cuál es la puntuación de calidad del mejor modelo?\n",
    "- ¿Mantuviste la estructura del proyecto?\n",
    "- ¿Mantuviste el código limpio?"
   ]
  },
  {
   "cell_type": "code",
   "execution_count": 1,
   "metadata": {},
   "outputs": [],
   "source": [
    "# Importar librerías necesarias\n",
    "import pandas as pd\n",
    "import matplotlib.pyplot as plt\n",
    "import seaborn as sns\n",
    "from sklearn.model_selection import train_test_split, RandomizedSearchCV, StratifiedKFold\n",
    "from sklearn.ensemble import RandomForestClassifier, VotingClassifier, StackingClassifier\n",
    "from sklearn.metrics import roc_auc_score, classification_report\n",
    "from sklearn.preprocessing import StandardScaler\n",
    "from catboost import CatBoostClassifier\n",
    "from bayes_opt import BayesianOptimization\n",
    "from sklearn.linear_model import LogisticRegression"
   ]
  },
  {
   "cell_type": "code",
   "execution_count": 2,
   "metadata": {},
   "outputs": [],
   "source": [
    "# Rutas de los archivos\n",
    "contract_path = '/datasets/final_provider/contract.csv'\n",
    "personal_path = '/datasets/final_provider/personal.csv'\n",
    "internet_path = '/datasets/final_provider/internet.csv'\n",
    "phone_path = '/datasets/final_provider/phone.csv'\n",
    "\n",
    "# Cargar los datos\n",
    "df_contract = pd.read_csv(contract_path)\n",
    "df_personal = pd.read_csv(personal_path)\n",
    "df_internet = pd.read_csv(internet_path)\n",
    "df_phone = pd.read_csv(phone_path)"
   ]
  },
  {
   "cell_type": "code",
   "execution_count": 3,
   "metadata": {},
   "outputs": [],
   "source": [
    "# Unificar los Datasets\n",
    "merged_data = df_contract.merge(df_personal, on=\"customerID\", how = \"left\")\n",
    "merged_data = merged_data.merge(df_internet, on= \"customerID\", how = \"left\")\n",
    "merged_data = merged_data.merge(df_phone, on = \"customerID\", how = \"left\")"
   ]
  },
  {
   "cell_type": "code",
   "execution_count": 4,
   "metadata": {},
   "outputs": [
    {
     "name": "stdout",
     "output_type": "stream",
     "text": [
      "Valores faltantes en TotalCharges: 11\n",
      "\n",
      "Ejemplo de filas SIN valores faltantes en TotalCharges\n",
      "   customerID  TotalCharges  MonthlyCharges            Type\n",
      "0  7590-VHVEG         29.85           29.85  Month-to-month\n",
      "1  5575-GNVDE       1889.50           56.95        One year\n",
      "2  3668-QPYBK        108.15           53.85  Month-to-month\n",
      "3  7795-CFOCW       1840.75           42.30        One year\n",
      "4  9237-HQITU        151.65           70.70  Month-to-month\n",
      "\n",
      "Filas con valores faltantes en TotalCharges:\n",
      "      customerID  TotalCharges  MonthlyCharges      Type\n",
      "488   4472-LVYGI           NaN           52.55  Two year\n",
      "753   3115-CZMZD           NaN           20.25  Two year\n",
      "936   5709-LVOEQ           NaN           80.85  Two year\n",
      "1082  4367-NUYAO           NaN           25.75  Two year\n",
      "1340  1371-DWPAZ           NaN           56.05  Two year\n",
      "3331  7644-OMVMY           NaN           19.85  Two year\n",
      "3826  3213-VVOLG           NaN           25.35  Two year\n",
      "4380  2520-SGTTA           NaN           20.00  Two year\n",
      "5218  2923-ARZLG           NaN           19.70  One year\n",
      "6670  4075-WKNIU           NaN           73.35  Two year\n",
      "6754  2775-SEFEE           NaN           61.90  Two year\n"
     ]
    }
   ],
   "source": [
    "# Convertir TotalCharges a numérico\n",
    "merged_data['TotalCharges'] = pd.to_numeric(merged_data['TotalCharges'], errors='coerce')\n",
    "missing_total_charges = merged_data['TotalCharges'].isnull().sum()\n",
    "print(f\"Valores faltantes en TotalCharges: {missing_total_charges}\")\n",
    "\n",
    "# Análisis de valores faltantes\n",
    "nomissing_row = merged_data[merged_data[\"TotalCharges\"].notnull()].head()\n",
    "missing_rows = merged_data[merged_data['TotalCharges'].isnull()]\n",
    "\n",
    "print(\"\\nEjemplo de filas SIN valores faltantes en TotalCharges\")\n",
    "print(nomissing_row[['customerID', 'TotalCharges', 'MonthlyCharges', 'Type']])\n",
    "\n",
    "print(\"\\nFilas con valores faltantes en TotalCharges:\")\n",
    "print(missing_rows[['customerID', 'TotalCharges', 'MonthlyCharges', 'Type']])"
   ]
  },
  {
   "cell_type": "code",
   "execution_count": 5,
   "metadata": {},
   "outputs": [
    {
     "data": {
      "image/png": "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",
      "text/plain": [
       "<Figure size 800x500 with 1 Axes>"
      ]
     },
     "metadata": {},
     "output_type": "display_data"
    },
    {
     "name": "stdout",
     "output_type": "stream",
     "text": [
      "\n",
      "Distribución de tipos de contrato en valores faltantes:\n",
      "Two year    10\n",
      "One year     1\n",
      "Name: Type, dtype: int64\n"
     ]
    }
   ],
   "source": [
    "# Visualizar distribución de MonthlyCharges para filas con valores faltantes\n",
    "plt.figure(figsize=(8, 5))\n",
    "sns.histplot(missing_rows['MonthlyCharges'], kde=True, bins=20)\n",
    "plt.title('Distribución de MonthlyCharges en valores faltantes de TotalCharges')\n",
    "plt.xlabel('MonthlyCharges')\n",
    "plt.ylabel('Frecuencia')\n",
    "plt.show()\n",
    "\n",
    "# Análisis de valores faltantes por tipo de contrato\n",
    "missing_by_type = missing_rows['Type'].value_counts()\n",
    "print(\"\\nDistribución de tipos de contrato en valores faltantes:\")\n",
    "print(missing_by_type)"
   ]
  },
  {
   "cell_type": "code",
   "execution_count": 6,
   "metadata": {},
   "outputs": [
    {
     "name": "stdout",
     "output_type": "stream",
     "text": [
      "Valores faltantes restantes en TotalCharges después de imputación: 0\n"
     ]
    }
   ],
   "source": [
    "# Imputación de valores faltantes usando la mediana por tipo de contrato\n",
    "merged_data['TotalCharges'] = merged_data.groupby('Type')['TotalCharges'].transform(\n",
    "    lambda x: x.fillna(x.median())\n",
    ")\n",
    "#Esta desición se tomo debido a que el numero de valores faltantes es pequeño por lo que no se considero necesario utilizar un modelo mas complejo\n",
    "# Verificación de los valores faltantes despúes de imputar con la media\n",
    "remaining_missing = merged_data['TotalCharges'].isnull().sum()\n",
    "print(f\"Valores faltantes restantes en TotalCharges después de imputación: {remaining_missing}\")"
   ]
  },
  {
   "cell_type": "code",
   "execution_count": 7,
   "metadata": {},
   "outputs": [
    {
     "name": "stdout",
     "output_type": "stream",
     "text": [
      "<class 'pandas.core.frame.DataFrame'>\n",
      "RangeIndex: 7043 entries, 0 to 7042\n",
      "Data columns (total 8 columns):\n",
      " #   Column            Non-Null Count  Dtype  \n",
      "---  ------            --------------  -----  \n",
      " 0   customerID        7043 non-null   object \n",
      " 1   BeginDate         7043 non-null   object \n",
      " 2   EndDate           7043 non-null   object \n",
      " 3   Type              7043 non-null   object \n",
      " 4   PaperlessBilling  7043 non-null   object \n",
      " 5   PaymentMethod     7043 non-null   object \n",
      " 6   MonthlyCharges    7043 non-null   float64\n",
      " 7   TotalCharges      7043 non-null   object \n",
      "dtypes: float64(1), object(7)\n",
      "memory usage: 440.3+ KB\n",
      "None\n"
     ]
    }
   ],
   "source": [
    "print(df_contract.info())"
   ]
  },
  {
   "cell_type": "markdown",
   "metadata": {},
   "source": [
    "  <div class=\"alert alert-block alert-success\"> <b>Comentario del revisor</b> <a class=\"tocSkip\"></a><br> \n",
    "    \n",
    "  <b>Éxito</b> - ¡Buen trabajo! La limpieza e imputación de datos se realizó correctamente, asegurando que los valores faltantes en **TotalCharges** sean tratados de manera adecuada. Además, el análisis previo con visualizaciones y estadísticas aporta claridad en la toma de decisiones. Mantén este enfoque estructurado en los siguientes pasos. 🚀  \n",
    "</div> \n",
    "    \n"
   ]
  },
  {
   "cell_type": "markdown",
   "metadata": {},
   "source": [
    "# Creación del modelo de predicción"
   ]
  },
  {
   "cell_type": "code",
   "execution_count": 8,
   "metadata": {},
   "outputs": [],
   "source": [
    "# Definición de la columna objetivo\n",
    "merged_data[\"Churn\"] = merged_data[\"EndDate\"].apply(lambda x: 0 if x == \"No\" else 1)\n",
    "\n",
    "# Indica si el cliente tiene servicio de internet o no, ya que esto no está explícito en los datos\n",
    "merged_data[\"has_internet\"] = merged_data[\"InternetService\"].notnull().astype(int)\n",
    "\n",
    "# Indica si el cliente tiene servicio de telefonía o no, ya que esto no está explícito en los datos\n",
    "merged_data[\"has_phone\"] = merged_data[\"MultipleLines\"].notnull().astype(int)\n",
    "\n",
    "# División de los datos de entrenamiento\n",
    "feature_columns = [\n",
    "    'MonthlyCharges', 'TotalCharges', 'SeniorCitizen',\n",
    "    'has_internet', 'has_phone', 'Type_One year', 'Type_Two year',\n",
    "    'PaymentMethod_Credit card (automatic)', 'PaymentMethod_Electronic check',\n",
    "    'PaymentMethod_Mailed check', 'StreamingTV_Yes', 'OnlineSecurity_Yes'\n",
    "]\n",
    "\n",
    "# Convertir variables categóricas a variables dummy\n",
    "merged_data = pd.get_dummies(\n",
    "    merged_data, \n",
    "    columns=['Type', 'PaymentMethod', 'StreamingTV', 'OnlineSecurity'], \n",
    "    drop_first=True\n",
    ")\n",
    "\n",
    "# lista de columnas creadas tras la conversión a variables dummy\n",
    "generated_columns = [\n",
    "    col for col in merged_data.columns \n",
    "    if any(feature in col for feature in ['Type_', 'PaymentMethod_', 'StreamingTV_', 'OnlineSecurity_'])\n",
    "]\n",
    "\n",
    "# Actualizar la lista de columnas de características\n",
    "feature_columns = ['MonthlyCharges', 'TotalCharges', 'SeniorCitizen', 'has_internet', 'has_phone'] + generated_columns\n",
    "\n",
    "# Clasificación o selección de características y objetivo\n",
    "features = merged_data[feature_columns]\n",
    "target = merged_data['Churn']"
   ]
  },
  {
   "cell_type": "code",
   "execution_count": 9,
   "metadata": {},
   "outputs": [
    {
     "name": "stdout",
     "output_type": "stream",
     "text": [
      "AUC-ROC: 0.84\n",
      "\n",
      "Reporte de Clasificación:\n",
      "              precision    recall  f1-score   support\n",
      "\n",
      "           0       0.90      0.74      0.81      1030\n",
      "           1       0.52      0.78      0.63       379\n",
      "\n",
      "    accuracy                           0.75      1409\n",
      "   macro avg       0.71      0.76      0.72      1409\n",
      "weighted avg       0.80      0.75      0.76      1409\n",
      "\n"
     ]
    },
    {
     "data": {
      "image/png": "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",
      "text/plain": [
       "<Figure size 640x480 with 1 Axes>"
      ]
     },
     "metadata": {},
     "output_type": "display_data"
    }
   ],
   "source": [
    "# Datos en entrenamiento y prueba\n",
    "features_train, features_test, target_train, target_test = train_test_split(features,target,test_size=0.2, random_state= 12345)\n",
    "\n",
    "# Entrenamiento del modelo\n",
    "model = RandomForestClassifier(\n",
    "    n_estimators=700, max_depth=10, min_samples_split=2, \n",
    "    min_samples_leaf=5, random_state=12345, class_weight=\"balanced\"\n",
    ")\n",
    "model.fit(features_train, target_train)\n",
    "\n",
    "# Evaluación del Modelo\n",
    "target_pred = model.predict(features_test)\n",
    "target_proba = model.predict_proba(features_test)[:, 1]\n",
    "\n",
    "# Calcular AUC-ROC\n",
    "auc_score = roc_auc_score(target_test, target_proba)\n",
    "print(f\"AUC-ROC: {auc_score:.2f}\")\n",
    "\n",
    "# Reporte de clasificación\n",
    "print(\"\\nReporte de Clasificación:\")\n",
    "print(classification_report(target_test, target_pred))\n",
    "\n",
    "# Visualización de Importancia de Características\n",
    "feature_importances = pd.Series(model.feature_importances_, index=features.columns).sort_values(ascending=False)\n",
    "feature_importances.plot(kind='bar', title='Importancia de las Características')\n",
    "plt.show()"
   ]
  },
  {
   "cell_type": "code",
   "execution_count": 10,
   "metadata": {},
   "outputs": [
    {
     "name": "stdout",
     "output_type": "stream",
     "text": [
      "AUC-ROC después de eliminar variables irrelevantes: 0.84\n"
     ]
    }
   ],
   "source": [
    "# Características más relevantes eliminando las que se consideren menos utilez para el entrenamiento del modelo\n",
    "feature_columns = ['TotalCharges', 'MonthlyCharges', 'Type_Two year', \n",
    "                   'PaymentMethod_Electronic check', 'Type_One year', \n",
    "                   'has_internet', 'OnlineSecurity_Yes']\n",
    "\n",
    "features = merged_data[feature_columns]\n",
    "target = merged_data['Churn']\n",
    "\n",
    "# Datos de entrenamiento y prueba\n",
    "features_train, features_test, target_train, target_test = train_test_split(\n",
    "    features, target, test_size=0.2, random_state=12345\n",
    ")\n",
    "\n",
    "# Entrenar el modelo nuevamente\n",
    "model = RandomForestClassifier(n_estimators=700, max_depth=10, \n",
    "                               min_samples_split=2, min_samples_leaf=5, \n",
    "                               random_state=12345, class_weight=\"balanced\")\n",
    "model.fit(features_train, target_train)\n",
    "\n",
    "# Evaluar el modelo después de eliminar variables irrelevantes\n",
    "target_pred = model.predict(features_test)\n",
    "target_proba = model.predict_proba(features_test)[:, 1]\n",
    "auc_score = roc_auc_score(target_test, target_proba)\n",
    "\n",
    "print(f\"AUC-ROC después de eliminar variables irrelevantes: {auc_score:.2f}\")"
   ]
  },
  {
   "cell_type": "code",
   "execution_count": 11,
   "metadata": {},
   "outputs": [
    {
     "name": "stdout",
     "output_type": "stream",
     "text": [
      "Fitting 3 folds for each of 81 candidates, totalling 243 fits\n",
      "[CV] END max_depth=10, min_samples_leaf=1, min_samples_split=2, n_estimators=200; total time=   0.6s\n",
      "[CV] END max_depth=10, min_samples_leaf=1, min_samples_split=2, n_estimators=200; total time=   0.6s\n",
      "[CV] END max_depth=10, min_samples_leaf=1, min_samples_split=2, n_estimators=200; total time=   0.6s\n",
      "[CV] END max_depth=10, min_samples_leaf=1, min_samples_split=2, n_estimators=500; total time=   1.4s\n",
      "[CV] END max_depth=10, min_samples_leaf=1, min_samples_split=2, n_estimators=500; total time=   1.4s\n",
      "[CV] END max_depth=10, min_samples_leaf=1, min_samples_split=2, n_estimators=500; total time=   1.4s\n",
      "[CV] END max_depth=10, min_samples_leaf=1, min_samples_split=2, n_estimators=700; total time=   1.9s\n",
      "[CV] END max_depth=10, min_samples_leaf=1, min_samples_split=2, n_estimators=700; total time=   2.0s\n",
      "[CV] END max_depth=10, min_samples_leaf=1, min_samples_split=2, n_estimators=700; total time=   2.0s\n",
      "[CV] END max_depth=10, min_samples_leaf=1, min_samples_split=5, n_estimators=200; total time=   0.6s\n",
      "[CV] END max_depth=10, min_samples_leaf=1, min_samples_split=5, n_estimators=200; total time=   0.6s\n",
      "[CV] END max_depth=10, min_samples_leaf=1, min_samples_split=5, n_estimators=200; total time=   0.6s\n",
      "[CV] END max_depth=10, min_samples_leaf=1, min_samples_split=5, n_estimators=500; total time=   1.4s\n",
      "[CV] END max_depth=10, min_samples_leaf=1, min_samples_split=5, n_estimators=500; total time=   1.4s\n",
      "[CV] END max_depth=10, min_samples_leaf=1, min_samples_split=5, n_estimators=500; total time=   1.4s\n",
      "[CV] END max_depth=10, min_samples_leaf=1, min_samples_split=5, n_estimators=700; total time=   1.9s\n",
      "[CV] END max_depth=10, min_samples_leaf=1, min_samples_split=5, n_estimators=700; total time=   2.0s\n",
      "[CV] END max_depth=10, min_samples_leaf=1, min_samples_split=5, n_estimators=700; total time=   1.9s\n",
      "[CV] END max_depth=10, min_samples_leaf=1, min_samples_split=10, n_estimators=200; total time=   0.5s\n",
      "[CV] END max_depth=10, min_samples_leaf=1, min_samples_split=10, n_estimators=200; total time=   0.6s\n",
      "[CV] END max_depth=10, min_samples_leaf=1, min_samples_split=10, n_estimators=200; total time=   0.5s\n",
      "[CV] END max_depth=10, min_samples_leaf=1, min_samples_split=10, n_estimators=500; total time=   1.4s\n",
      "[CV] END max_depth=10, min_samples_leaf=1, min_samples_split=10, n_estimators=500; total time=   1.4s\n",
      "[CV] END max_depth=10, min_samples_leaf=1, min_samples_split=10, n_estimators=500; total time=   1.3s\n",
      "[CV] END max_depth=10, min_samples_leaf=1, min_samples_split=10, n_estimators=700; total time=   1.9s\n",
      "[CV] END max_depth=10, min_samples_leaf=1, min_samples_split=10, n_estimators=700; total time=   1.9s\n",
      "[CV] END max_depth=10, min_samples_leaf=1, min_samples_split=10, n_estimators=700; total time=   1.9s\n",
      "[CV] END max_depth=10, min_samples_leaf=3, min_samples_split=2, n_estimators=200; total time=   0.5s\n",
      "[CV] END max_depth=10, min_samples_leaf=3, min_samples_split=2, n_estimators=200; total time=   0.5s\n",
      "[CV] END max_depth=10, min_samples_leaf=3, min_samples_split=2, n_estimators=200; total time=   0.5s\n",
      "[CV] END max_depth=10, min_samples_leaf=3, min_samples_split=2, n_estimators=500; total time=   1.3s\n",
      "[CV] END max_depth=10, min_samples_leaf=3, min_samples_split=2, n_estimators=500; total time=   1.3s\n",
      "[CV] END max_depth=10, min_samples_leaf=3, min_samples_split=2, n_estimators=500; total time=   1.3s\n",
      "[CV] END max_depth=10, min_samples_leaf=3, min_samples_split=2, n_estimators=700; total time=   1.9s\n",
      "[CV] END max_depth=10, min_samples_leaf=3, min_samples_split=2, n_estimators=700; total time=   1.9s\n",
      "[CV] END max_depth=10, min_samples_leaf=3, min_samples_split=2, n_estimators=700; total time=   1.9s\n",
      "[CV] END max_depth=10, min_samples_leaf=3, min_samples_split=5, n_estimators=200; total time=   0.5s\n",
      "[CV] END max_depth=10, min_samples_leaf=3, min_samples_split=5, n_estimators=200; total time=   0.5s\n",
      "[CV] END max_depth=10, min_samples_leaf=3, min_samples_split=5, n_estimators=200; total time=   0.5s\n",
      "[CV] END max_depth=10, min_samples_leaf=3, min_samples_split=5, n_estimators=500; total time=   1.3s\n",
      "[CV] END max_depth=10, min_samples_leaf=3, min_samples_split=5, n_estimators=500; total time=   1.3s\n",
      "[CV] END max_depth=10, min_samples_leaf=3, min_samples_split=5, n_estimators=500; total time=   1.4s\n",
      "[CV] END max_depth=10, min_samples_leaf=3, min_samples_split=5, n_estimators=700; total time=   1.9s\n",
      "[CV] END max_depth=10, min_samples_leaf=3, min_samples_split=5, n_estimators=700; total time=   1.9s\n",
      "[CV] END max_depth=10, min_samples_leaf=3, min_samples_split=5, n_estimators=700; total time=   1.9s\n",
      "[CV] END max_depth=10, min_samples_leaf=3, min_samples_split=10, n_estimators=200; total time=   0.5s\n",
      "[CV] END max_depth=10, min_samples_leaf=3, min_samples_split=10, n_estimators=200; total time=   0.5s\n",
      "[CV] END max_depth=10, min_samples_leaf=3, min_samples_split=10, n_estimators=200; total time=   0.5s\n",
      "[CV] END max_depth=10, min_samples_leaf=3, min_samples_split=10, n_estimators=500; total time=   1.3s\n",
      "[CV] END max_depth=10, min_samples_leaf=3, min_samples_split=10, n_estimators=500; total time=   1.4s\n",
      "[CV] END max_depth=10, min_samples_leaf=3, min_samples_split=10, n_estimators=500; total time=   1.3s\n",
      "[CV] END max_depth=10, min_samples_leaf=3, min_samples_split=10, n_estimators=700; total time=   1.8s\n",
      "[CV] END max_depth=10, min_samples_leaf=3, min_samples_split=10, n_estimators=700; total time=   1.9s\n",
      "[CV] END max_depth=10, min_samples_leaf=3, min_samples_split=10, n_estimators=700; total time=   1.9s\n",
      "[CV] END max_depth=10, min_samples_leaf=5, min_samples_split=2, n_estimators=200; total time=   0.5s\n",
      "[CV] END max_depth=10, min_samples_leaf=5, min_samples_split=2, n_estimators=200; total time=   0.5s\n",
      "[CV] END max_depth=10, min_samples_leaf=5, min_samples_split=2, n_estimators=200; total time=   0.5s\n",
      "[CV] END max_depth=10, min_samples_leaf=5, min_samples_split=2, n_estimators=500; total time=   1.4s\n",
      "[CV] END max_depth=10, min_samples_leaf=5, min_samples_split=2, n_estimators=500; total time=   1.3s\n",
      "[CV] END max_depth=10, min_samples_leaf=5, min_samples_split=2, n_estimators=500; total time=   1.3s\n",
      "[CV] END max_depth=10, min_samples_leaf=5, min_samples_split=2, n_estimators=700; total time=   1.8s\n",
      "[CV] END max_depth=10, min_samples_leaf=5, min_samples_split=2, n_estimators=700; total time=   1.8s\n",
      "[CV] END max_depth=10, min_samples_leaf=5, min_samples_split=2, n_estimators=700; total time=   1.8s\n",
      "[CV] END max_depth=10, min_samples_leaf=5, min_samples_split=5, n_estimators=200; total time=   0.5s\n",
      "[CV] END max_depth=10, min_samples_leaf=5, min_samples_split=5, n_estimators=200; total time=   0.5s\n",
      "[CV] END max_depth=10, min_samples_leaf=5, min_samples_split=5, n_estimators=200; total time=   0.5s\n",
      "[CV] END max_depth=10, min_samples_leaf=5, min_samples_split=5, n_estimators=500; total time=   1.3s\n",
      "[CV] END max_depth=10, min_samples_leaf=5, min_samples_split=5, n_estimators=500; total time=   1.3s\n",
      "[CV] END max_depth=10, min_samples_leaf=5, min_samples_split=5, n_estimators=500; total time=   1.3s\n",
      "[CV] END max_depth=10, min_samples_leaf=5, min_samples_split=5, n_estimators=700; total time=   1.8s\n",
      "[CV] END max_depth=10, min_samples_leaf=5, min_samples_split=5, n_estimators=700; total time=   1.8s\n",
      "[CV] END max_depth=10, min_samples_leaf=5, min_samples_split=5, n_estimators=700; total time=   1.8s\n",
      "[CV] END max_depth=10, min_samples_leaf=5, min_samples_split=10, n_estimators=200; total time=   0.6s\n",
      "[CV] END max_depth=10, min_samples_leaf=5, min_samples_split=10, n_estimators=200; total time=   0.6s\n",
      "[CV] END max_depth=10, min_samples_leaf=5, min_samples_split=10, n_estimators=200; total time=   0.5s\n",
      "[CV] END max_depth=10, min_samples_leaf=5, min_samples_split=10, n_estimators=500; total time=   1.3s\n",
      "[CV] END max_depth=10, min_samples_leaf=5, min_samples_split=10, n_estimators=500; total time=   1.3s\n",
      "[CV] END max_depth=10, min_samples_leaf=5, min_samples_split=10, n_estimators=500; total time=   1.3s\n",
      "[CV] END max_depth=10, min_samples_leaf=5, min_samples_split=10, n_estimators=700; total time=   1.8s\n",
      "[CV] END max_depth=10, min_samples_leaf=5, min_samples_split=10, n_estimators=700; total time=   1.8s\n",
      "[CV] END max_depth=10, min_samples_leaf=5, min_samples_split=10, n_estimators=700; total time=   1.9s\n"
     ]
    },
    {
     "name": "stdout",
     "output_type": "stream",
     "text": [
      "[CV] END max_depth=15, min_samples_leaf=1, min_samples_split=2, n_estimators=200; total time=   0.6s\n",
      "[CV] END max_depth=15, min_samples_leaf=1, min_samples_split=2, n_estimators=200; total time=   0.7s\n",
      "[CV] END max_depth=15, min_samples_leaf=1, min_samples_split=2, n_estimators=200; total time=   0.6s\n",
      "[CV] END max_depth=15, min_samples_leaf=1, min_samples_split=2, n_estimators=500; total time=   1.6s\n",
      "[CV] END max_depth=15, min_samples_leaf=1, min_samples_split=2, n_estimators=500; total time=   1.6s\n",
      "[CV] END max_depth=15, min_samples_leaf=1, min_samples_split=2, n_estimators=500; total time=   1.6s\n",
      "[CV] END max_depth=15, min_samples_leaf=1, min_samples_split=2, n_estimators=700; total time=   2.2s\n",
      "[CV] END max_depth=15, min_samples_leaf=1, min_samples_split=2, n_estimators=700; total time=   2.3s\n",
      "[CV] END max_depth=15, min_samples_leaf=1, min_samples_split=2, n_estimators=700; total time=   2.2s\n",
      "[CV] END max_depth=15, min_samples_leaf=1, min_samples_split=5, n_estimators=200; total time=   0.6s\n",
      "[CV] END max_depth=15, min_samples_leaf=1, min_samples_split=5, n_estimators=200; total time=   0.6s\n",
      "[CV] END max_depth=15, min_samples_leaf=1, min_samples_split=5, n_estimators=200; total time=   0.6s\n",
      "[CV] END max_depth=15, min_samples_leaf=1, min_samples_split=5, n_estimators=500; total time=   1.6s\n",
      "[CV] END max_depth=15, min_samples_leaf=1, min_samples_split=5, n_estimators=500; total time=   1.6s\n",
      "[CV] END max_depth=15, min_samples_leaf=1, min_samples_split=5, n_estimators=500; total time=   1.6s\n",
      "[CV] END max_depth=15, min_samples_leaf=1, min_samples_split=5, n_estimators=700; total time=   2.2s\n",
      "[CV] END max_depth=15, min_samples_leaf=1, min_samples_split=5, n_estimators=700; total time=   2.2s\n",
      "[CV] END max_depth=15, min_samples_leaf=1, min_samples_split=5, n_estimators=700; total time=   2.3s\n",
      "[CV] END max_depth=15, min_samples_leaf=1, min_samples_split=10, n_estimators=200; total time=   0.6s\n",
      "[CV] END max_depth=15, min_samples_leaf=1, min_samples_split=10, n_estimators=200; total time=   0.6s\n",
      "[CV] END max_depth=15, min_samples_leaf=1, min_samples_split=10, n_estimators=200; total time=   0.6s\n",
      "[CV] END max_depth=15, min_samples_leaf=1, min_samples_split=10, n_estimators=500; total time=   1.7s\n",
      "[CV] END max_depth=15, min_samples_leaf=1, min_samples_split=10, n_estimators=500; total time=   1.6s\n",
      "[CV] END max_depth=15, min_samples_leaf=1, min_samples_split=10, n_estimators=500; total time=   1.5s\n",
      "[CV] END max_depth=15, min_samples_leaf=1, min_samples_split=10, n_estimators=700; total time=   2.1s\n",
      "[CV] END max_depth=15, min_samples_leaf=1, min_samples_split=10, n_estimators=700; total time=   2.2s\n",
      "[CV] END max_depth=15, min_samples_leaf=1, min_samples_split=10, n_estimators=700; total time=   2.1s\n",
      "[CV] END max_depth=15, min_samples_leaf=3, min_samples_split=2, n_estimators=200; total time=   0.6s\n",
      "[CV] END max_depth=15, min_samples_leaf=3, min_samples_split=2, n_estimators=200; total time=   0.6s\n",
      "[CV] END max_depth=15, min_samples_leaf=3, min_samples_split=2, n_estimators=200; total time=   0.6s\n",
      "[CV] END max_depth=15, min_samples_leaf=3, min_samples_split=2, n_estimators=500; total time=   1.5s\n",
      "[CV] END max_depth=15, min_samples_leaf=3, min_samples_split=2, n_estimators=500; total time=   1.5s\n",
      "[CV] END max_depth=15, min_samples_leaf=3, min_samples_split=2, n_estimators=500; total time=   1.5s\n",
      "[CV] END max_depth=15, min_samples_leaf=3, min_samples_split=2, n_estimators=700; total time=   2.1s\n",
      "[CV] END max_depth=15, min_samples_leaf=3, min_samples_split=2, n_estimators=700; total time=   2.1s\n",
      "[CV] END max_depth=15, min_samples_leaf=3, min_samples_split=2, n_estimators=700; total time=   2.1s\n",
      "[CV] END max_depth=15, min_samples_leaf=3, min_samples_split=5, n_estimators=200; total time=   0.6s\n",
      "[CV] END max_depth=15, min_samples_leaf=3, min_samples_split=5, n_estimators=200; total time=   0.6s\n",
      "[CV] END max_depth=15, min_samples_leaf=3, min_samples_split=5, n_estimators=200; total time=   0.6s\n",
      "[CV] END max_depth=15, min_samples_leaf=3, min_samples_split=5, n_estimators=500; total time=   1.5s\n",
      "[CV] END max_depth=15, min_samples_leaf=3, min_samples_split=5, n_estimators=500; total time=   1.5s\n",
      "[CV] END max_depth=15, min_samples_leaf=3, min_samples_split=5, n_estimators=500; total time=   1.5s\n",
      "[CV] END max_depth=15, min_samples_leaf=3, min_samples_split=5, n_estimators=700; total time=   2.1s\n",
      "[CV] END max_depth=15, min_samples_leaf=3, min_samples_split=5, n_estimators=700; total time=   2.1s\n",
      "[CV] END max_depth=15, min_samples_leaf=3, min_samples_split=5, n_estimators=700; total time=   2.0s\n",
      "[CV] END max_depth=15, min_samples_leaf=3, min_samples_split=10, n_estimators=200; total time=   0.6s\n",
      "[CV] END max_depth=15, min_samples_leaf=3, min_samples_split=10, n_estimators=200; total time=   0.6s\n",
      "[CV] END max_depth=15, min_samples_leaf=3, min_samples_split=10, n_estimators=200; total time=   0.6s\n",
      "[CV] END max_depth=15, min_samples_leaf=3, min_samples_split=10, n_estimators=500; total time=   1.4s\n",
      "[CV] END max_depth=15, min_samples_leaf=3, min_samples_split=10, n_estimators=500; total time=   1.5s\n",
      "[CV] END max_depth=15, min_samples_leaf=3, min_samples_split=10, n_estimators=500; total time=   1.4s\n",
      "[CV] END max_depth=15, min_samples_leaf=3, min_samples_split=10, n_estimators=700; total time=   2.0s\n",
      "[CV] END max_depth=15, min_samples_leaf=3, min_samples_split=10, n_estimators=700; total time=   2.0s\n",
      "[CV] END max_depth=15, min_samples_leaf=3, min_samples_split=10, n_estimators=700; total time=   2.0s\n",
      "[CV] END max_depth=15, min_samples_leaf=5, min_samples_split=2, n_estimators=200; total time=   0.6s\n",
      "[CV] END max_depth=15, min_samples_leaf=5, min_samples_split=2, n_estimators=200; total time=   0.6s\n",
      "[CV] END max_depth=15, min_samples_leaf=5, min_samples_split=2, n_estimators=200; total time=   0.6s\n",
      "[CV] END max_depth=15, min_samples_leaf=5, min_samples_split=2, n_estimators=500; total time=   1.4s\n",
      "[CV] END max_depth=15, min_samples_leaf=5, min_samples_split=2, n_estimators=500; total time=   1.4s\n",
      "[CV] END max_depth=15, min_samples_leaf=5, min_samples_split=2, n_estimators=500; total time=   1.4s\n",
      "[CV] END max_depth=15, min_samples_leaf=5, min_samples_split=2, n_estimators=700; total time=   1.9s\n",
      "[CV] END max_depth=15, min_samples_leaf=5, min_samples_split=2, n_estimators=700; total time=   2.0s\n",
      "[CV] END max_depth=15, min_samples_leaf=5, min_samples_split=2, n_estimators=700; total time=   2.0s\n",
      "[CV] END max_depth=15, min_samples_leaf=5, min_samples_split=5, n_estimators=200; total time=   0.6s\n",
      "[CV] END max_depth=15, min_samples_leaf=5, min_samples_split=5, n_estimators=200; total time=   0.6s\n",
      "[CV] END max_depth=15, min_samples_leaf=5, min_samples_split=5, n_estimators=200; total time=   0.6s\n",
      "[CV] END max_depth=15, min_samples_leaf=5, min_samples_split=5, n_estimators=500; total time=   1.4s\n",
      "[CV] END max_depth=15, min_samples_leaf=5, min_samples_split=5, n_estimators=500; total time=   1.4s\n",
      "[CV] END max_depth=15, min_samples_leaf=5, min_samples_split=5, n_estimators=500; total time=   1.4s\n",
      "[CV] END max_depth=15, min_samples_leaf=5, min_samples_split=5, n_estimators=700; total time=   1.9s\n",
      "[CV] END max_depth=15, min_samples_leaf=5, min_samples_split=5, n_estimators=700; total time=   1.9s\n",
      "[CV] END max_depth=15, min_samples_leaf=5, min_samples_split=5, n_estimators=700; total time=   2.0s\n",
      "[CV] END max_depth=15, min_samples_leaf=5, min_samples_split=10, n_estimators=200; total time=   0.6s\n",
      "[CV] END max_depth=15, min_samples_leaf=5, min_samples_split=10, n_estimators=200; total time=   0.6s\n",
      "[CV] END max_depth=15, min_samples_leaf=5, min_samples_split=10, n_estimators=200; total time=   0.6s\n",
      "[CV] END max_depth=15, min_samples_leaf=5, min_samples_split=10, n_estimators=500; total time=   1.4s\n",
      "[CV] END max_depth=15, min_samples_leaf=5, min_samples_split=10, n_estimators=500; total time=   1.4s\n",
      "[CV] END max_depth=15, min_samples_leaf=5, min_samples_split=10, n_estimators=500; total time=   1.4s\n",
      "[CV] END max_depth=15, min_samples_leaf=5, min_samples_split=10, n_estimators=700; total time=   1.9s\n",
      "[CV] END max_depth=15, min_samples_leaf=5, min_samples_split=10, n_estimators=700; total time=   2.0s\n",
      "[CV] END max_depth=15, min_samples_leaf=5, min_samples_split=10, n_estimators=700; total time=   2.0s\n"
     ]
    },
    {
     "name": "stdout",
     "output_type": "stream",
     "text": [
      "[CV] END max_depth=20, min_samples_leaf=1, min_samples_split=2, n_estimators=200; total time=   0.7s\n",
      "[CV] END max_depth=20, min_samples_leaf=1, min_samples_split=2, n_estimators=200; total time=   0.7s\n",
      "[CV] END max_depth=20, min_samples_leaf=1, min_samples_split=2, n_estimators=200; total time=   0.7s\n",
      "[CV] END max_depth=20, min_samples_leaf=1, min_samples_split=2, n_estimators=500; total time=   1.7s\n",
      "[CV] END max_depth=20, min_samples_leaf=1, min_samples_split=2, n_estimators=500; total time=   1.7s\n",
      "[CV] END max_depth=20, min_samples_leaf=1, min_samples_split=2, n_estimators=500; total time=   1.7s\n",
      "[CV] END max_depth=20, min_samples_leaf=1, min_samples_split=2, n_estimators=700; total time=   2.4s\n",
      "[CV] END max_depth=20, min_samples_leaf=1, min_samples_split=2, n_estimators=700; total time=   2.3s\n",
      "[CV] END max_depth=20, min_samples_leaf=1, min_samples_split=2, n_estimators=700; total time=   2.4s\n",
      "[CV] END max_depth=20, min_samples_leaf=1, min_samples_split=5, n_estimators=200; total time=   0.6s\n",
      "[CV] END max_depth=20, min_samples_leaf=1, min_samples_split=5, n_estimators=200; total time=   0.6s\n",
      "[CV] END max_depth=20, min_samples_leaf=1, min_samples_split=5, n_estimators=200; total time=   0.6s\n",
      "[CV] END max_depth=20, min_samples_leaf=1, min_samples_split=5, n_estimators=500; total time=   1.7s\n",
      "[CV] END max_depth=20, min_samples_leaf=1, min_samples_split=5, n_estimators=500; total time=   1.6s\n",
      "[CV] END max_depth=20, min_samples_leaf=1, min_samples_split=5, n_estimators=500; total time=   1.6s\n",
      "[CV] END max_depth=20, min_samples_leaf=1, min_samples_split=5, n_estimators=700; total time=   2.2s\n",
      "[CV] END max_depth=20, min_samples_leaf=1, min_samples_split=5, n_estimators=700; total time=   2.2s\n",
      "[CV] END max_depth=20, min_samples_leaf=1, min_samples_split=5, n_estimators=700; total time=   2.3s\n",
      "[CV] END max_depth=20, min_samples_leaf=1, min_samples_split=10, n_estimators=200; total time=   0.6s\n",
      "[CV] END max_depth=20, min_samples_leaf=1, min_samples_split=10, n_estimators=200; total time=   0.6s\n",
      "[CV] END max_depth=20, min_samples_leaf=1, min_samples_split=10, n_estimators=200; total time=   0.6s\n",
      "[CV] END max_depth=20, min_samples_leaf=1, min_samples_split=10, n_estimators=500; total time=   1.5s\n",
      "[CV] END max_depth=20, min_samples_leaf=1, min_samples_split=10, n_estimators=500; total time=   1.5s\n",
      "[CV] END max_depth=20, min_samples_leaf=1, min_samples_split=10, n_estimators=500; total time=   1.6s\n",
      "[CV] END max_depth=20, min_samples_leaf=1, min_samples_split=10, n_estimators=700; total time=   2.2s\n",
      "[CV] END max_depth=20, min_samples_leaf=1, min_samples_split=10, n_estimators=700; total time=   2.2s\n",
      "[CV] END max_depth=20, min_samples_leaf=1, min_samples_split=10, n_estimators=700; total time=   2.2s\n",
      "[CV] END max_depth=20, min_samples_leaf=3, min_samples_split=2, n_estimators=200; total time=   0.6s\n",
      "[CV] END max_depth=20, min_samples_leaf=3, min_samples_split=2, n_estimators=200; total time=   0.6s\n",
      "[CV] END max_depth=20, min_samples_leaf=3, min_samples_split=2, n_estimators=200; total time=   0.6s\n",
      "[CV] END max_depth=20, min_samples_leaf=3, min_samples_split=2, n_estimators=500; total time=   1.5s\n",
      "[CV] END max_depth=20, min_samples_leaf=3, min_samples_split=2, n_estimators=500; total time=   1.5s\n",
      "[CV] END max_depth=20, min_samples_leaf=3, min_samples_split=2, n_estimators=500; total time=   1.5s\n",
      "[CV] END max_depth=20, min_samples_leaf=3, min_samples_split=2, n_estimators=700; total time=   2.1s\n",
      "[CV] END max_depth=20, min_samples_leaf=3, min_samples_split=2, n_estimators=700; total time=   2.2s\n",
      "[CV] END max_depth=20, min_samples_leaf=3, min_samples_split=2, n_estimators=700; total time=   2.1s\n",
      "[CV] END max_depth=20, min_samples_leaf=3, min_samples_split=5, n_estimators=200; total time=   0.6s\n",
      "[CV] END max_depth=20, min_samples_leaf=3, min_samples_split=5, n_estimators=200; total time=   0.6s\n",
      "[CV] END max_depth=20, min_samples_leaf=3, min_samples_split=5, n_estimators=200; total time=   0.6s\n",
      "[CV] END max_depth=20, min_samples_leaf=3, min_samples_split=5, n_estimators=500; total time=   1.5s\n",
      "[CV] END max_depth=20, min_samples_leaf=3, min_samples_split=5, n_estimators=500; total time=   1.5s\n",
      "[CV] END max_depth=20, min_samples_leaf=3, min_samples_split=5, n_estimators=500; total time=   1.5s\n",
      "[CV] END max_depth=20, min_samples_leaf=3, min_samples_split=5, n_estimators=700; total time=   2.1s\n",
      "[CV] END max_depth=20, min_samples_leaf=3, min_samples_split=5, n_estimators=700; total time=   2.1s\n",
      "[CV] END max_depth=20, min_samples_leaf=3, min_samples_split=5, n_estimators=700; total time=   2.1s\n",
      "[CV] END max_depth=20, min_samples_leaf=3, min_samples_split=10, n_estimators=200; total time=   0.6s\n",
      "[CV] END max_depth=20, min_samples_leaf=3, min_samples_split=10, n_estimators=200; total time=   0.6s\n",
      "[CV] END max_depth=20, min_samples_leaf=3, min_samples_split=10, n_estimators=200; total time=   0.6s\n",
      "[CV] END max_depth=20, min_samples_leaf=3, min_samples_split=10, n_estimators=500; total time=   1.5s\n",
      "[CV] END max_depth=20, min_samples_leaf=3, min_samples_split=10, n_estimators=500; total time=   1.5s\n",
      "[CV] END max_depth=20, min_samples_leaf=3, min_samples_split=10, n_estimators=500; total time=   1.4s\n",
      "[CV] END max_depth=20, min_samples_leaf=3, min_samples_split=10, n_estimators=700; total time=   2.0s\n",
      "[CV] END max_depth=20, min_samples_leaf=3, min_samples_split=10, n_estimators=700; total time=   2.0s\n",
      "[CV] END max_depth=20, min_samples_leaf=3, min_samples_split=10, n_estimators=700; total time=   2.1s\n",
      "[CV] END max_depth=20, min_samples_leaf=5, min_samples_split=2, n_estimators=200; total time=   0.6s\n",
      "[CV] END max_depth=20, min_samples_leaf=5, min_samples_split=2, n_estimators=200; total time=   0.6s\n",
      "[CV] END max_depth=20, min_samples_leaf=5, min_samples_split=2, n_estimators=200; total time=   0.6s\n",
      "[CV] END max_depth=20, min_samples_leaf=5, min_samples_split=2, n_estimators=500; total time=   1.4s\n",
      "[CV] END max_depth=20, min_samples_leaf=5, min_samples_split=2, n_estimators=500; total time=   1.4s\n",
      "[CV] END max_depth=20, min_samples_leaf=5, min_samples_split=2, n_estimators=500; total time=   1.4s\n",
      "[CV] END max_depth=20, min_samples_leaf=5, min_samples_split=2, n_estimators=700; total time=   1.9s\n",
      "[CV] END max_depth=20, min_samples_leaf=5, min_samples_split=2, n_estimators=700; total time=   2.0s\n",
      "[CV] END max_depth=20, min_samples_leaf=5, min_samples_split=2, n_estimators=700; total time=   2.0s\n",
      "[CV] END max_depth=20, min_samples_leaf=5, min_samples_split=5, n_estimators=200; total time=   0.6s\n",
      "[CV] END max_depth=20, min_samples_leaf=5, min_samples_split=5, n_estimators=200; total time=   0.6s\n",
      "[CV] END max_depth=20, min_samples_leaf=5, min_samples_split=5, n_estimators=200; total time=   0.6s\n",
      "[CV] END max_depth=20, min_samples_leaf=5, min_samples_split=5, n_estimators=500; total time=   1.4s\n",
      "[CV] END max_depth=20, min_samples_leaf=5, min_samples_split=5, n_estimators=500; total time=   1.4s\n",
      "[CV] END max_depth=20, min_samples_leaf=5, min_samples_split=5, n_estimators=500; total time=   1.4s\n",
      "[CV] END max_depth=20, min_samples_leaf=5, min_samples_split=5, n_estimators=700; total time=   2.0s\n",
      "[CV] END max_depth=20, min_samples_leaf=5, min_samples_split=5, n_estimators=700; total time=   2.0s\n",
      "[CV] END max_depth=20, min_samples_leaf=5, min_samples_split=5, n_estimators=700; total time=   1.9s\n",
      "[CV] END max_depth=20, min_samples_leaf=5, min_samples_split=10, n_estimators=200; total time=   0.6s\n",
      "[CV] END max_depth=20, min_samples_leaf=5, min_samples_split=10, n_estimators=200; total time=   0.6s\n",
      "[CV] END max_depth=20, min_samples_leaf=5, min_samples_split=10, n_estimators=200; total time=   0.6s\n",
      "[CV] END max_depth=20, min_samples_leaf=5, min_samples_split=10, n_estimators=500; total time=   1.4s\n",
      "[CV] END max_depth=20, min_samples_leaf=5, min_samples_split=10, n_estimators=500; total time=   1.4s\n",
      "[CV] END max_depth=20, min_samples_leaf=5, min_samples_split=10, n_estimators=500; total time=   1.4s\n",
      "[CV] END max_depth=20, min_samples_leaf=5, min_samples_split=10, n_estimators=700; total time=   2.0s\n",
      "[CV] END max_depth=20, min_samples_leaf=5, min_samples_split=10, n_estimators=700; total time=   2.0s\n",
      "[CV] END max_depth=20, min_samples_leaf=5, min_samples_split=10, n_estimators=700; total time=   2.0s\n"
     ]
    },
    {
     "name": "stdout",
     "output_type": "stream",
     "text": [
      "Mejores parámetros: {'max_depth': 10, 'min_samples_leaf': 5, 'min_samples_split': 2, 'n_estimators': 700}\n"
     ]
    }
   ],
   "source": [
    "from sklearn.model_selection import train_test_split, GridSearchCV\n",
    "\n",
    "param_grid = {\n",
    "    'n_estimators': [200, 500, 700],\n",
    "    'max_depth': [10, 15, 20],\n",
    "    'min_samples_split': [2, 5, 10],\n",
    "    'min_samples_leaf': [1, 3, 5]\n",
    "}\n",
    "\n",
    "rf = RandomForestClassifier(random_state=12345, class_weight='balanced')\n",
    "\n",
    "grid_search = GridSearchCV(rf, param_grid, cv=3, scoring='roc_auc', verbose=2, n_jobs=-1)\n",
    "grid_search.fit(features_train, target_train)\n",
    "\n",
    "# Mejor modelo encontrado\n",
    "best_rf = grid_search.best_estimator_\n",
    "print(f\"Mejores parámetros: {grid_search.best_params_}\")"
   ]
  },
  {
   "cell_type": "code",
   "execution_count": 17,
   "metadata": {},
   "outputs": [
    {
     "name": "stdout",
     "output_type": "stream",
     "text": [
      "0:\tlearn: 0.6607241\ttotal: 1.49ms\tremaining: 745ms\n",
      "100:\tlearn: 0.0108858\ttotal: 134ms\tremaining: 528ms\n",
      "200:\tlearn: 0.0015035\ttotal: 271ms\tremaining: 403ms\n",
      "300:\tlearn: 0.0005496\ttotal: 411ms\tremaining: 272ms\n",
      "400:\tlearn: 0.0003448\ttotal: 544ms\tremaining: 134ms\n",
      "499:\tlearn: 0.0003149\ttotal: 677ms\tremaining: 0us\n",
      "AUC-ROC en el conjunto de validación (CatBoost Mejorado): 1.00\n",
      "AUC-ROC en el conjunto de prueba: 1.00\n"
     ]
    },
    {
     "data": {
      "image/png": "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",
      "text/plain": [
       "<Figure size 800x390 with 2 Axes>"
      ]
     },
     "metadata": {},
     "output_type": "display_data"
    }
   ],
   "source": [
    "import shap\n",
    "import pandas as pd\n",
    "import numpy as np\n",
    "from catboost import CatBoostClassifier\n",
    "from sklearn.model_selection import train_test_split\n",
    "from sklearn.metrics import roc_auc_score\n",
    "\n",
    "# Generación de nuevas características\n",
    "merged_data['DuracionContrato'] = (pd.to_datetime(merged_data['EndDate'], errors='coerce') - pd.to_datetime(merged_data['BeginDate'])).dt.days.fillna(0)\n",
    "merged_data['ChargeRatio'] = merged_data['TotalCharges'] / merged_data['MonthlyCharges']\n",
    "merged_data['AvgMonthlyCharges'] = merged_data['TotalCharges'] / (merged_data['DuracionContrato'] + 1)\n",
    "\n",
    "# Dividir datos en entrenamiento, validación y prueba\n",
    "features = merged_data[['MonthlyCharges', 'TotalCharges', 'SeniorCitizen', 'has_internet', 'ChargeRatio', 'AvgMonthlyCharges']]\n",
    "target = merged_data['Churn']\n",
    "\n",
    "# Primero dividimos en entrenamiento (70%) y el resto (30% para validación y prueba)\n",
    "X_train, X_temp, y_train, y_temp = train_test_split(features, target, test_size=0.3, random_state=12345)\n",
    "\n",
    "# Luego dividimos el 30% restante en validación (50% de los datos restantes) y prueba (50%)\n",
    "X_val, X_test, y_val, y_test = train_test_split(X_temp, y_temp, test_size=0.5, random_state=12345)\n",
    "\n",
    "# Entrenar el modelo de CatBoost\n",
    "cat_model = CatBoostClassifier(iterations=500, depth=6, learning_rate=0.01, loss_function='Logloss', random_seed=12345, verbose=100)\n",
    "cat_model.fit(X_train, y_train)\n",
    "\n",
    "# Evaluar el modelo en el conjunto de validación\n",
    "y_val_pred_proba = cat_model.predict_proba(X_val)[:, 1]\n",
    "auc_score_val = roc_auc_score(y_val, y_val_pred_proba)\n",
    "print(f\"AUC-ROC en el conjunto de validación (CatBoost Mejorado): {auc_score_val:.2f}\")\n",
    "\n",
    "# Evaluar el modelo en el conjunto de prueba\n",
    "y_test_pred_proba = cat_model.predict_proba(X_test)[:, 1]\n",
    "auc_score_test = roc_auc_score(y_test, y_test_pred_proba)\n",
    "print(f\"AUC-ROC en el conjunto de prueba: {auc_score_test:.2f}\")\n",
    "\n",
    "# Interpretación con SHAP\n",
    "explainer = shap.TreeExplainer(cat_model)\n",
    "shap_values = explainer.shap_values(X_val)\n",
    "shap.summary_plot(shap_values, X_val)"
   ]
  },
  {
   "cell_type": "code",
   "execution_count": 13,
   "metadata": {},
   "outputs": [
    {
     "name": "stdout",
     "output_type": "stream",
     "text": [
      "0:\tlearn: 0.5398897\ttotal: 2.27ms\tremaining: 1.13s\n",
      "100:\tlearn: 0.0003284\ttotal: 142ms\tremaining: 562ms\n",
      "200:\tlearn: 0.0002849\ttotal: 276ms\tremaining: 411ms\n",
      "300:\tlearn: 0.0002842\ttotal: 410ms\tremaining: 271ms\n",
      "400:\tlearn: 0.0002836\ttotal: 547ms\tremaining: 135ms\n",
      "499:\tlearn: 0.0002833\ttotal: 680ms\tremaining: 0us\n",
      "0:\tlearn: 0.5370857\ttotal: 1.99ms\tremaining: 994ms\n",
      "100:\tlearn: 0.0003061\ttotal: 144ms\tremaining: 567ms\n",
      "200:\tlearn: 0.0002721\ttotal: 287ms\tremaining: 427ms\n",
      "300:\tlearn: 0.0002627\ttotal: 419ms\tremaining: 277ms\n",
      "400:\tlearn: 0.0002624\ttotal: 562ms\tremaining: 139ms\n",
      "499:\tlearn: 0.0002622\ttotal: 692ms\tremaining: 0us\n",
      "0:\tlearn: 0.5358553\ttotal: 1.81ms\tremaining: 904ms\n",
      "100:\tlearn: 0.0003204\ttotal: 141ms\tremaining: 556ms\n",
      "200:\tlearn: 0.0003029\ttotal: 292ms\tremaining: 434ms\n",
      "300:\tlearn: 0.0003026\ttotal: 424ms\tremaining: 281ms\n",
      "400:\tlearn: 0.0003024\ttotal: 562ms\tremaining: 139ms\n",
      "499:\tlearn: 0.0003021\ttotal: 693ms\tremaining: 0us\n",
      "0:\tlearn: 0.5366372\ttotal: 1.95ms\tremaining: 974ms\n",
      "100:\tlearn: 0.0002982\ttotal: 147ms\tremaining: 579ms\n",
      "200:\tlearn: 0.0002616\ttotal: 292ms\tremaining: 435ms\n",
      "300:\tlearn: 0.0002612\ttotal: 428ms\tremaining: 283ms\n",
      "400:\tlearn: 0.0002611\ttotal: 577ms\tremaining: 142ms\n",
      "499:\tlearn: 0.0002610\ttotal: 711ms\tremaining: 0us\n",
      "0:\tlearn: 0.5385877\ttotal: 1.81ms\tremaining: 901ms\n",
      "100:\tlearn: 0.0003433\ttotal: 141ms\tremaining: 557ms\n",
      "200:\tlearn: 0.0003234\ttotal: 276ms\tremaining: 411ms\n",
      "300:\tlearn: 0.0002852\ttotal: 408ms\tremaining: 270ms\n",
      "400:\tlearn: 0.0002847\ttotal: 539ms\tremaining: 133ms\n",
      "499:\tlearn: 0.0002844\ttotal: 668ms\tremaining: 0us\n",
      "AUC-ROC con K-Fold: 1.00 ± 0.00\n"
     ]
    }
   ],
   "source": [
    "from sklearn.model_selection import KFold, cross_val_score\n",
    "\n",
    "# Realizar validación cruzada K-Fold\n",
    "kf = KFold(n_splits=5, shuffle=True, random_state=12345)\n",
    "\n",
    "# Evaluar CatBoost usando AUC-ROC en cada partición\n",
    "cv_scores = cross_val_score(cat_model, features, target, cv=kf, scoring='roc_auc')\n",
    "print(f\"AUC-ROC con K-Fold: {cv_scores.mean():.2f} ± {cv_scores.std():.2f}\")"
   ]
  },
  {
   "cell_type": "markdown",
   "metadata": {},
   "source": [
    "<div class=\"alert alert-block alert-warning\">  \n",
    "<b>Comentario del revisor</b> <a class=\"tocSkip\"></a><br>  \n",
    "<b>Atención</b> ⚠️ - Has realizado una optimización sólida con `GridSearchCV` y validación cruzada, lo cual es un gran paso. Sin embargo, parece que el modelo está presentando **overfitting**, ya que el AUC-ROC en validación y prueba muestra diferencias notables. Aquí algunas recomendaciones para mejorar la generalización:  \n",
    "\n",
    "- **Reducir la complejidad del modelo:** Ajustar `max_depth`, `n_estimators` o `min_samples_leaf` puede evitar que el modelo se ajuste demasiado a los datos de entrenamiento.  \n",
    "- **Revisar la selección de características:** Verifica que no haya variables altamente correlacionadas que puedan inducir fuga de información.  \n",
    "- **Probar técnicas de balanceo de clases:** Aunque `class_weight='balanced'` es útil, considera `SMOTE` o `undersampling` para mejorar la generalización.  \n",
    "- **Ajustar la regularización en CatBoost:** Reducir `depth` y ajustar `l2_leaf_reg` puede ayudar a controlar la complejidad.  \n",
    "- **Evaluar la estabilidad del modelo:** Comparar las métricas entre entrenamiento, validación y prueba asegurará que no esté sobreajustado.  \n",
    "\n",
    "Realizar estos ajustes podría mejorar la capacidad del modelo para predecir en datos no vistos. ¡Sigue explorando y optimizando, vas por muy buen camino! 🚀</div>"
   ]
  },
  {
   "cell_type": "code",
   "execution_count": 14,
   "metadata": {},
   "outputs": [
    {
     "name": "stdout",
     "output_type": "stream",
     "text": [
      "(4930, 6) (1056, 6) (1057, 6)\n"
     ]
    },
    {
     "data": {
      "text/plain": [
       "<sklearn.metrics._plot.confusion_matrix.ConfusionMatrixDisplay at 0x7ffb67bec1f0>"
      ]
     },
     "execution_count": 14,
     "metadata": {},
     "output_type": "execute_result"
    },
    {
     "data": {
      "image/png": "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",
      "text/plain": [
       "<Figure size 640x480 with 2 Axes>"
      ]
     },
     "metadata": {},
     "output_type": "display_data"
    }
   ],
   "source": [
    "print(X_train.shape, X_val.shape, X_test.shape)\n",
    "from sklearn.metrics import confusion_matrix, ConfusionMatrixDisplay\n",
    "\n",
    "# predicciones de clases\n",
    "y_valid_pred_class = cat_model.predict(X_val)\n",
    "\n",
    "#matriz de confusión\n",
    "cm = confusion_matrix(y_val, y_valid_pred_class)\n",
    "\n",
    "# Visualización\n",
    "disp = ConfusionMatrixDisplay(confusion_matrix=cm, display_labels=cat_model.classes_)\n",
    "disp.plot(cmap='Blues')\n"
   ]
  },
  {
   "cell_type": "markdown",
   "metadata": {},
   "source": [
    "# Notas\n",
    "\n",
    "Primer resultado: **AUC-ROC = 77**\n",
    "\n",
    "- `RandomForestClassifier(random_state=12345, class_weight=\"balanced\")`\n",
    "- `feature_columns = ['MonthlyCharges', 'TotalCharges', 'SeniorCitizen', 'has_internet', 'has\n",
    "\n",
    "Segundo Resultado: **AUC-ROC = 84**\n",
    "- `model = RandomForestClassifier(n_estimators=300, max_depth=12,min_samples_split = 5, min_samples_leaf=3, random_state = 12345, class_weight=\"balanced\")`\n",
    "- `feature_columns = ['MonthlyCharges', 'TotalCharges', 'SeniorCitizen', 'has_internet', 'has_phone', 'Type_One year', 'Type_Two year', 'PaymentMethod_Credit card (automatic)', 'PaymentMethod_Electronic check', 'PaymentMethod_Mailed check', 'StreamingTV_Yes', 'OnlineSecurity_Yes']\n",
    "\n",
    "Nota: Los cambios realizados para este segundo resultado fueron: Se agregaron  más características relevantes las cuales se tuvieron que convertir a numericas para que fueran procesadas con exito, así como se especificaron parametros diferentes a los automaticos como fueron, aumentar el numero de arboles a 300 (n_estimators), se limito la profundidad de cada arbol a 12 (max_depth)\n",
    "\n",
    "Tercer Resultado: **AUC-ROC = 84**\n",
    "Se cambiaron otros parametros pero esto no ayudo a mejorar el modelo.\n",
    "\n",
    "Cuarto Resultado: **AUC-ROC = 83**\n",
    "Se trato de mejorar el modelo haciendo un ajuste de peso de clases con SMOTE\n",
    "\n",
    "Quinto Resultado **AUC-ROC = 81**\n",
    "Se probo la utilización de otro modelo de evaluación el cual fue LightGBM pero esto obtuvo peores resultados.\n",
    "\n",
    "Sexto Resultado **AUC-ROC = 84**\n",
    "Utilizando Modelo XGBoost\n",
    "\n",
    "Septimo Resultado **AUC-ROC = 84**\n",
    "Utilizando Modelo XGBoost y buscando los mejores parametros\n",
    "\n",
    "Octavo Resultado **AUC-ROC = 84**\n",
    "Utilizando un modelo ensablado entre XGBoost y RandomForestClassifier\n"
   ]
  },
  {
   "cell_type": "markdown",
   "metadata": {},
   "source": [
    "<div class=\"alert alert-block alert-success\"> \n",
    "<b>Comentario del revisor</b> <a class=\"tocSkip\"></a><br> \n",
    "<b>Éxito</b> - ¡Excelente implementación! Has llevado a cabo un análisis detallado y probado múltiples enfoques para optimizar el rendimiento del modelo. La integración de diferentes modelos y la búsqueda de hiperparámetros han fortalecido la calidad de tu predicción. ¡Sigue explorando y refinando tus modelos, estás en el camino correcto! 🚀</div>"
   ]
  },
  {
   "cell_type": "markdown",
   "metadata": {},
   "source": [
    "# Comentarios\n",
    "\n",
    "Se hicieron varias pruebas, explorando varios modelos en los cuales me enfoque en RandomForestClassifier en donde prove varias optimizaciones, balanceos de clases, especificacion de los mejores paramtreros entre otras cosas, en donde no pude super un AUC-ROC de 84, tambien utilice el modelo XGBoots pero tambien no pude superar la barrera de los .84, posteriormente intente con otro metodo por una sugerencia externa que es CatBoostClassifier, pero el AUC-ROC fue de 1 lo cual me produce cuestionamientos si esta bien el modelo, hice algunas pruebas para comparar esto como fue comprarando con un conjunto tanto de validación con prueba, por lo que quería pedir asesoría para confirmar si el modelo esta bien ejecutado, tiene un sobreajuste o se esta repitiendo algun proceso de manera erronea, también en caso de que el modelo este incorrecto quería pedir asesoría sobre que modelos o ajustes me recomiendan probar para mejorar mi modelo ya que no me gustaría quedarme con un AUC-ROC de .84"
   ]
  },
  {
   "cell_type": "markdown",
   "metadata": {},
   "source": [
    "# Comentario general del revisor "
   ]
  },
  {
   "cell_type": "markdown",
   "metadata": {},
   "source": [
    "<div class=\"alert alert-block alert-success\">  \n",
    "<b>Comentario del revisor</b> <a class=\"tocSkip\"></a><br>  \n",
    "<b>Éxito</b> 🎉 - ¡Felicidades Josué! Has realizado un excelente trabajo en la optimización y evaluación de modelos para la predicción de cancelaciones de clientes. Tu enfoque en la selección de características, el uso de `GridSearchCV` y la validación cruzada demuestra un gran nivel de análisis y comprensión del problema.  \n",
    "\n",
    "**Puntos positivos:**  \n",
    "- Limpieza y preparación de datos adecuada, asegurando que las características sean representativas.  \n",
    "- Exploración de múltiples modelos, incluyendo Random Forest, XGBoost y CatBoost.  \n",
    "- Uso de validación cruzada y SHAP, lo cual fortalece la interpretación de resultados.  \n",
    "\n",
    "**Áreas de Mejora:**  \n",
    "- Overfitting en algunos modelos: Es recomendable seguir ajustando hiperparámetros y probar técnicas como reducción de dimensionalidad o regularización para mejorar la generalización.  \n",
    "- Evaluación de estabilidad del modelo:Comparar más detalladamente las métricas entre entrenamiento, validación y prueba ayudará a afinar aún más la solución.  \n",
    "\n",
    "Has demostrado una gran capacidad analítica y técnica en este proyecto. Sigue explorando y optimizando modelos, ya que este es un campo en constante evolución. ¡Estoy seguro de que alcanzarás modelos aún más precisos en el futuro! 🚀📊</div>"
   ]
  },
  {
   "cell_type": "code",
   "execution_count": null,
   "metadata": {},
   "outputs": [],
   "source": []
  }
 ],
 "metadata": {
  "ExecuteTimeLog": [
   {
    "duration": 2797,
    "start_time": "2025-01-28T15:42:04.774Z"
   },
   {
    "duration": 64,
    "start_time": "2025-01-28T15:47:34.967Z"
   },
   {
    "duration": 18,
    "start_time": "2025-01-28T15:51:15.481Z"
   },
   {
    "duration": 17,
    "start_time": "2025-01-28T15:51:22.920Z"
   },
   {
    "duration": 6,
    "start_time": "2025-01-28T18:26:44.215Z"
   },
   {
    "duration": 13,
    "start_time": "2025-01-28T18:31:25.552Z"
   },
   {
    "duration": 589,
    "start_time": "2025-01-28T18:34:50.951Z"
   },
   {
    "duration": 14,
    "start_time": "2025-01-28T18:41:31.441Z"
   },
   {
    "duration": 14,
    "start_time": "2025-01-28T18:42:03.240Z"
   },
   {
    "duration": 1339,
    "start_time": "2025-01-28T18:42:20.712Z"
   },
   {
    "duration": 50,
    "start_time": "2025-01-28T18:42:22.811Z"
   },
   {
    "duration": 27,
    "start_time": "2025-01-28T18:42:24.537Z"
   },
   {
    "duration": 15,
    "start_time": "2025-01-28T18:42:26.176Z"
   },
   {
    "duration": 17,
    "start_time": "2025-01-28T18:42:39.445Z"
   },
   {
    "duration": 14,
    "start_time": "2025-01-28T18:43:09.009Z"
   },
   {
    "duration": 274,
    "start_time": "2025-01-28T18:43:11.503Z"
   },
   {
    "duration": 319,
    "start_time": "2025-01-28T18:51:33.533Z"
   },
   {
    "duration": 10,
    "start_time": "2025-01-28T18:51:42.342Z"
   },
   {
    "duration": 8,
    "start_time": "2025-01-28T18:52:34.047Z"
   },
   {
    "duration": 8,
    "start_time": "2025-01-28T18:52:44.170Z"
   },
   {
    "duration": 9,
    "start_time": "2025-01-28T18:53:11.845Z"
   },
   {
    "duration": 6,
    "start_time": "2025-01-28T19:17:13.464Z"
   },
   {
    "duration": 6,
    "start_time": "2025-01-28T19:18:26.362Z"
   },
   {
    "duration": 7,
    "start_time": "2025-01-28T19:20:03.117Z"
   },
   {
    "duration": 7,
    "start_time": "2025-01-28T19:21:05.757Z"
   },
   {
    "duration": 4,
    "start_time": "2025-01-28T19:32:27.568Z"
   },
   {
    "duration": 462,
    "start_time": "2025-01-28T19:33:38.133Z"
   },
   {
    "duration": 80,
    "start_time": "2025-01-28T19:37:25.917Z"
   },
   {
    "duration": 471,
    "start_time": "2025-01-28T19:37:35.530Z"
   },
   {
    "duration": 491,
    "start_time": "2025-01-28T19:41:00.443Z"
   },
   {
    "duration": 646,
    "start_time": "2025-01-28T19:42:17.365Z"
   },
   {
    "duration": 2716,
    "start_time": "2025-01-28T20:35:20.886Z"
   },
   {
    "duration": 67,
    "start_time": "2025-01-28T20:35:24.957Z"
   },
   {
    "duration": 20,
    "start_time": "2025-01-28T20:35:27.014Z"
   },
   {
    "duration": 15,
    "start_time": "2025-01-28T20:35:29.339Z"
   },
   {
    "duration": 287,
    "start_time": "2025-01-28T20:35:34.941Z"
   },
   {
    "duration": 8,
    "start_time": "2025-01-28T20:35:38.112Z"
   },
   {
    "duration": 6,
    "start_time": "2025-01-28T20:35:41.909Z"
   },
   {
    "duration": 620,
    "start_time": "2025-01-28T20:35:45.104Z"
   },
   {
    "duration": 671,
    "start_time": "2025-01-28T20:35:50.478Z"
   },
   {
    "duration": 569,
    "start_time": "2025-01-28T20:42:15.515Z"
   },
   {
    "duration": 8,
    "start_time": "2025-01-28T20:43:56.913Z"
   },
   {
    "duration": 3,
    "start_time": "2025-01-28T20:43:58.926Z"
   },
   {
    "duration": 51,
    "start_time": "2025-01-28T20:45:01.447Z"
   },
   {
    "duration": 30,
    "start_time": "2025-01-28T20:45:05.336Z"
   },
   {
    "duration": 14,
    "start_time": "2025-01-28T20:47:06.802Z"
   },
   {
    "duration": 13,
    "start_time": "2025-01-28T20:47:39.657Z"
   },
   {
    "duration": 10,
    "start_time": "2025-01-28T20:47:47.250Z"
   },
   {
    "duration": 43,
    "start_time": "2025-01-28T20:49:37.801Z"
   },
   {
    "duration": 1043,
    "start_time": "2025-01-28T20:49:51.544Z"
   },
   {
    "duration": 36,
    "start_time": "2025-01-28T20:49:55.434Z"
   },
   {
    "duration": 19,
    "start_time": "2025-01-28T20:49:57.046Z"
   },
   {
    "duration": 16,
    "start_time": "2025-01-28T20:49:59.107Z"
   },
   {
    "duration": 237,
    "start_time": "2025-01-28T20:50:01.868Z"
   },
   {
    "duration": 8,
    "start_time": "2025-01-28T20:50:04.820Z"
   },
   {
    "duration": 11,
    "start_time": "2025-01-28T20:50:06.687Z"
   },
   {
    "duration": 8,
    "start_time": "2025-01-28T20:50:10.353Z"
   },
   {
    "duration": 602,
    "start_time": "2025-01-28T20:50:13.235Z"
   },
   {
    "duration": 84,
    "start_time": "2025-01-28T20:53:52.098Z"
   },
   {
    "duration": 47,
    "start_time": "2025-01-28T20:55:14.327Z"
   },
   {
    "duration": 47,
    "start_time": "2025-01-28T20:55:30.272Z"
   },
   {
    "duration": 1042,
    "start_time": "2025-01-28T20:56:56.734Z"
   },
   {
    "duration": 35,
    "start_time": "2025-01-28T20:57:00.198Z"
   },
   {
    "duration": 18,
    "start_time": "2025-01-28T20:57:02.024Z"
   },
   {
    "duration": 15,
    "start_time": "2025-01-28T20:57:04.898Z"
   },
   {
    "duration": 241,
    "start_time": "2025-01-28T20:57:07.756Z"
   },
   {
    "duration": 8,
    "start_time": "2025-01-28T20:57:13.638Z"
   },
   {
    "duration": 11,
    "start_time": "2025-01-28T20:57:15.553Z"
   },
   {
    "duration": 9,
    "start_time": "2025-01-28T20:57:19.410Z"
   },
   {
    "duration": 1280,
    "start_time": "2025-01-28T20:57:22.298Z"
   },
   {
    "duration": 629,
    "start_time": "2025-01-28T21:53:21.287Z"
   },
   {
    "duration": 1024,
    "start_time": "2025-01-28T21:53:36.560Z"
   },
   {
    "duration": 36,
    "start_time": "2025-01-28T21:53:38.728Z"
   },
   {
    "duration": 19,
    "start_time": "2025-01-28T21:53:40.716Z"
   },
   {
    "duration": 17,
    "start_time": "2025-01-28T21:53:42.731Z"
   },
   {
    "duration": 287,
    "start_time": "2025-01-28T21:53:45.212Z"
   },
   {
    "duration": 9,
    "start_time": "2025-01-28T21:53:48.716Z"
   },
   {
    "duration": 11,
    "start_time": "2025-01-28T21:53:50.972Z"
   },
   {
    "duration": 7,
    "start_time": "2025-01-28T21:53:54.379Z"
   },
   {
    "duration": 1887,
    "start_time": "2025-01-28T21:53:58.123Z"
   },
   {
    "duration": 619,
    "start_time": "2025-01-28T21:54:10.259Z"
   },
   {
    "duration": 42,
    "start_time": "2025-01-28T21:54:22.065Z"
   },
   {
    "duration": 998,
    "start_time": "2025-01-28T21:54:37.102Z"
   },
   {
    "duration": 32,
    "start_time": "2025-01-28T21:54:40.413Z"
   },
   {
    "duration": 19,
    "start_time": "2025-01-28T21:54:42.283Z"
   },
   {
    "duration": 15,
    "start_time": "2025-01-28T21:54:44.270Z"
   },
   {
    "duration": 243,
    "start_time": "2025-01-28T21:54:46.374Z"
   },
   {
    "duration": 9,
    "start_time": "2025-01-28T21:54:49.451Z"
   },
   {
    "duration": 10,
    "start_time": "2025-01-28T21:54:51.192Z"
   },
   {
    "duration": 10,
    "start_time": "2025-01-28T21:54:53.750Z"
   },
   {
    "duration": 559,
    "start_time": "2025-01-28T21:54:56.444Z"
   },
   {
    "duration": 1038,
    "start_time": "2025-01-28T21:57:09.249Z"
   },
   {
    "duration": 32,
    "start_time": "2025-01-28T21:57:11.747Z"
   },
   {
    "duration": 19,
    "start_time": "2025-01-28T21:57:13.720Z"
   },
   {
    "duration": 16,
    "start_time": "2025-01-28T21:57:15.669Z"
   },
   {
    "duration": 304,
    "start_time": "2025-01-28T21:57:19.197Z"
   },
   {
    "duration": 8,
    "start_time": "2025-01-28T21:57:22.746Z"
   },
   {
    "duration": 11,
    "start_time": "2025-01-28T21:57:24.727Z"
   },
   {
    "duration": 8,
    "start_time": "2025-01-28T21:57:27.396Z"
   },
   {
    "duration": 1270,
    "start_time": "2025-01-28T21:57:31.289Z"
   },
   {
    "duration": 1050,
    "start_time": "2025-01-28T21:57:52.715Z"
   },
   {
    "duration": 30,
    "start_time": "2025-01-28T21:57:54.732Z"
   },
   {
    "duration": 19,
    "start_time": "2025-01-28T21:57:56.745Z"
   },
   {
    "duration": 15,
    "start_time": "2025-01-28T21:57:58.374Z"
   },
   {
    "duration": 250,
    "start_time": "2025-01-28T21:58:01.673Z"
   },
   {
    "duration": 9,
    "start_time": "2025-01-28T21:58:04.396Z"
   },
   {
    "duration": 12,
    "start_time": "2025-01-28T21:58:06.313Z"
   },
   {
    "duration": 7,
    "start_time": "2025-01-28T21:58:09.465Z"
   },
   {
    "duration": 1954,
    "start_time": "2025-01-28T21:58:14.766Z"
   },
   {
    "duration": 1069,
    "start_time": "2025-01-28T21:59:09.446Z"
   },
   {
    "duration": 31,
    "start_time": "2025-01-28T21:59:12.366Z"
   },
   {
    "duration": 19,
    "start_time": "2025-01-28T21:59:14.448Z"
   },
   {
    "duration": 1066,
    "start_time": "2025-01-28T22:01:36.019Z"
   },
   {
    "duration": 33,
    "start_time": "2025-01-28T22:01:37.634Z"
   },
   {
    "duration": 19,
    "start_time": "2025-01-28T22:01:40.328Z"
   },
   {
    "duration": 16,
    "start_time": "2025-01-28T22:01:42.286Z"
   },
   {
    "duration": 282,
    "start_time": "2025-01-28T22:01:44.414Z"
   },
   {
    "duration": 12,
    "start_time": "2025-01-28T22:01:47.252Z"
   },
   {
    "duration": 11,
    "start_time": "2025-01-28T22:01:49.054Z"
   },
   {
    "duration": 7,
    "start_time": "2025-01-28T22:01:52.245Z"
   },
   {
    "duration": 1887,
    "start_time": "2025-01-28T22:01:59.611Z"
   },
   {
    "duration": 6572,
    "start_time": "2025-01-28T22:04:46.768Z"
   },
   {
    "duration": 6202,
    "start_time": "2025-01-28T22:05:56.017Z"
   },
   {
    "duration": 288511,
    "start_time": "2025-01-28T22:08:26.725Z"
   },
   {
    "duration": 702,
    "start_time": "2025-01-28T22:14:38.630Z"
   },
   {
    "duration": 1041,
    "start_time": "2025-01-28T22:14:59.767Z"
   },
   {
    "duration": 36,
    "start_time": "2025-01-28T22:15:03.616Z"
   },
   {
    "duration": 19,
    "start_time": "2025-01-28T22:15:05.298Z"
   },
   {
    "duration": 993,
    "start_time": "2025-01-28T22:15:42.704Z"
   },
   {
    "duration": 31,
    "start_time": "2025-01-28T22:15:45.150Z"
   },
   {
    "duration": 19,
    "start_time": "2025-01-28T22:15:46.971Z"
   },
   {
    "duration": 15,
    "start_time": "2025-01-28T22:15:49.582Z"
   },
   {
    "duration": 299,
    "start_time": "2025-01-28T22:15:52.110Z"
   },
   {
    "duration": 8,
    "start_time": "2025-01-28T22:15:54.881Z"
   },
   {
    "duration": 11,
    "start_time": "2025-01-28T22:15:56.737Z"
   },
   {
    "duration": 579,
    "start_time": "2025-01-28T22:16:01.705Z"
   },
   {
    "duration": 1019,
    "start_time": "2025-01-28T22:18:07.529Z"
   },
   {
    "duration": 32,
    "start_time": "2025-01-28T22:18:10.160Z"
   },
   {
    "duration": 22,
    "start_time": "2025-01-28T22:18:11.911Z"
   },
   {
    "duration": 18,
    "start_time": "2025-01-28T22:18:15.079Z"
   },
   {
    "duration": 282,
    "start_time": "2025-01-28T22:18:17.825Z"
   },
   {
    "duration": 8,
    "start_time": "2025-01-28T22:18:23.517Z"
   },
   {
    "duration": 10,
    "start_time": "2025-01-28T22:18:25.588Z"
   },
   {
    "duration": 551,
    "start_time": "2025-01-28T22:18:30.666Z"
   },
   {
    "duration": 2528,
    "start_time": "2025-01-28T22:19:14.811Z"
   },
   {
    "duration": 1028,
    "start_time": "2025-01-28T22:25:33.830Z"
   },
   {
    "duration": 32,
    "start_time": "2025-01-28T22:25:36.920Z"
   },
   {
    "duration": 19,
    "start_time": "2025-01-28T22:25:38.943Z"
   },
   {
    "duration": 15,
    "start_time": "2025-01-28T22:25:43.541Z"
   },
   {
    "duration": 261,
    "start_time": "2025-01-28T22:25:46.471Z"
   },
   {
    "duration": 8,
    "start_time": "2025-01-28T22:25:49.186Z"
   },
   {
    "duration": 11,
    "start_time": "2025-01-28T22:25:51.248Z"
   },
   {
    "duration": 8,
    "start_time": "2025-01-28T22:26:00.719Z"
   },
   {
    "duration": 251,
    "start_time": "2025-01-28T22:27:57.963Z"
   },
   {
    "duration": 16,
    "start_time": "2025-01-28T22:28:16.492Z"
   },
   {
    "duration": 13,
    "start_time": "2025-01-28T22:28:21.740Z"
   },
   {
    "duration": 3,
    "start_time": "2025-01-28T22:28:36.630Z"
   },
   {
    "duration": 9,
    "start_time": "2025-01-28T22:29:17.495Z"
   },
   {
    "duration": 9807,
    "start_time": "2025-01-28T22:29:20.385Z"
   },
   {
    "duration": 49,
    "start_time": "2025-01-28T22:29:30.195Z"
   },
   {
    "duration": 16,
    "start_time": "2025-01-28T22:30:40.933Z"
   },
   {
    "duration": 14,
    "start_time": "2025-01-28T22:30:49.196Z"
   },
   {
    "duration": 1481,
    "start_time": "2025-01-28T22:31:02.297Z"
   },
   {
    "duration": 1377,
    "start_time": "2025-01-28T22:31:13.330Z"
   },
   {
    "duration": 1210,
    "start_time": "2025-01-28T22:31:16.906Z"
   },
   {
    "duration": 1336,
    "start_time": "2025-01-28T22:32:16.624Z"
   },
   {
    "duration": 19,
    "start_time": "2025-01-28T22:32:19.213Z"
   },
   {
    "duration": 13,
    "start_time": "2025-01-28T22:32:37.273Z"
   },
   {
    "duration": 1434,
    "start_time": "2025-01-28T22:32:40.954Z"
   },
   {
    "duration": 16,
    "start_time": "2025-01-28T22:32:44.600Z"
   },
   {
    "duration": 1466,
    "start_time": "2025-01-28T22:32:57.714Z"
   },
   {
    "duration": 1236,
    "start_time": "2025-01-28T22:33:01.098Z"
   },
   {
    "duration": 2466,
    "start_time": "2025-01-28T22:34:00.861Z"
   },
   {
    "duration": 1336,
    "start_time": "2025-01-28T22:35:36.488Z"
   },
   {
    "duration": 5038,
    "start_time": "2025-01-28T22:36:14.748Z"
   },
   {
    "duration": 1275,
    "start_time": "2025-01-28T22:36:26.619Z"
   },
   {
    "duration": 1029,
    "start_time": "2025-01-28T22:38:00.273Z"
   },
   {
    "duration": 36,
    "start_time": "2025-01-28T22:38:03.906Z"
   },
   {
    "duration": 20,
    "start_time": "2025-01-28T22:38:06.425Z"
   },
   {
    "duration": 16,
    "start_time": "2025-01-28T22:38:08.375Z"
   },
   {
    "duration": 255,
    "start_time": "2025-01-28T22:38:10.969Z"
   },
   {
    "duration": 8,
    "start_time": "2025-01-28T22:38:13.913Z"
   },
   {
    "duration": 11,
    "start_time": "2025-01-28T22:38:18.588Z"
   },
   {
    "duration": 7,
    "start_time": "2025-01-28T22:38:24.966Z"
   },
   {
    "duration": 250,
    "start_time": "2025-01-28T22:38:33.536Z"
   },
   {
    "duration": 25,
    "start_time": "2025-01-28T22:38:37.087Z"
   },
   {
    "duration": 27,
    "start_time": "2025-01-28T22:39:05.724Z"
   },
   {
    "duration": 991,
    "start_time": "2025-01-28T22:48:28.891Z"
   },
   {
    "duration": 36,
    "start_time": "2025-01-28T22:48:31.833Z"
   },
   {
    "duration": 18,
    "start_time": "2025-01-28T22:48:34.219Z"
   },
   {
    "duration": 16,
    "start_time": "2025-01-28T22:48:36.285Z"
   },
   {
    "duration": 7,
    "start_time": "2025-01-28T22:48:39.343Z"
   },
   {
    "duration": 10,
    "start_time": "2025-01-28T22:48:41.656Z"
   },
   {
    "duration": 8,
    "start_time": "2025-01-28T22:48:44.321Z"
   },
   {
    "duration": 250,
    "start_time": "2025-01-28T22:48:47.900Z"
   },
   {
    "duration": 3652,
    "start_time": "2025-01-28T22:50:06.894Z"
   },
   {
    "duration": 2735,
    "start_time": "2025-01-28T22:50:29.953Z"
   },
   {
    "duration": 3411,
    "start_time": "2025-01-28T22:52:41.061Z"
   },
   {
    "duration": 991,
    "start_time": "2025-01-28T22:53:01.348Z"
   },
   {
    "duration": 32,
    "start_time": "2025-01-28T22:53:04.773Z"
   },
   {
    "duration": 19,
    "start_time": "2025-01-28T22:53:06.532Z"
   },
   {
    "duration": 15,
    "start_time": "2025-01-28T22:53:08.844Z"
   },
   {
    "duration": 262,
    "start_time": "2025-01-28T22:53:11.247Z"
   },
   {
    "duration": 9,
    "start_time": "2025-01-28T22:53:13.817Z"
   },
   {
    "duration": 10,
    "start_time": "2025-01-28T22:53:15.682Z"
   },
   {
    "duration": 8,
    "start_time": "2025-01-28T22:53:17.994Z"
   },
   {
    "duration": 3457,
    "start_time": "2025-01-28T22:53:21.115Z"
   },
   {
    "duration": 1543,
    "start_time": "2025-01-28T22:54:48.888Z"
   },
   {
    "duration": 1868,
    "start_time": "2025-01-28T22:56:34.371Z"
   },
   {
    "duration": 2011,
    "start_time": "2025-01-28T22:58:46.200Z"
   },
   {
    "duration": 962,
    "start_time": "2025-01-28T22:59:05.850Z"
   },
   {
    "duration": 32,
    "start_time": "2025-01-28T22:59:08.664Z"
   },
   {
    "duration": 19,
    "start_time": "2025-01-28T22:59:10.465Z"
   },
   {
    "duration": 17,
    "start_time": "2025-01-28T22:59:13.101Z"
   },
   {
    "duration": 259,
    "start_time": "2025-01-28T22:59:15.457Z"
   },
   {
    "duration": 10,
    "start_time": "2025-01-28T22:59:19.159Z"
   },
   {
    "duration": 10,
    "start_time": "2025-01-28T22:59:21.417Z"
   },
   {
    "duration": 13,
    "start_time": "2025-01-28T22:59:28.213Z"
   },
   {
    "duration": 3458,
    "start_time": "2025-01-28T22:59:31.614Z"
   },
   {
    "duration": 199,
    "start_time": "2025-01-28T22:59:42.984Z"
   },
   {
    "duration": 190,
    "start_time": "2025-01-28T23:03:17.682Z"
   },
   {
    "duration": 2624,
    "start_time": "2025-01-28T23:03:21.625Z"
   },
   {
    "duration": 967,
    "start_time": "2025-01-28T23:04:08.892Z"
   },
   {
    "duration": 33,
    "start_time": "2025-01-28T23:04:11.526Z"
   },
   {
    "duration": 19,
    "start_time": "2025-01-28T23:04:13.264Z"
   },
   {
    "duration": 15,
    "start_time": "2025-01-28T23:04:15.379Z"
   },
   {
    "duration": 283,
    "start_time": "2025-01-28T23:04:17.825Z"
   },
   {
    "duration": 8,
    "start_time": "2025-01-28T23:04:20.773Z"
   },
   {
    "duration": 10,
    "start_time": "2025-01-28T23:04:22.877Z"
   },
   {
    "duration": 7,
    "start_time": "2025-01-28T23:04:25.342Z"
   },
   {
    "duration": 573,
    "start_time": "2025-01-28T23:04:30.718Z"
   },
   {
    "duration": 171,
    "start_time": "2025-01-28T23:06:20.484Z"
   },
   {
    "duration": 956,
    "start_time": "2025-01-28T23:06:28.808Z"
   },
   {
    "duration": 37,
    "start_time": "2025-01-28T23:06:31.279Z"
   },
   {
    "duration": 19,
    "start_time": "2025-01-28T23:06:32.866Z"
   },
   {
    "duration": 17,
    "start_time": "2025-01-28T23:06:34.812Z"
   },
   {
    "duration": 303,
    "start_time": "2025-01-28T23:06:40.016Z"
   },
   {
    "duration": 8,
    "start_time": "2025-01-28T23:06:43.468Z"
   },
   {
    "duration": 10,
    "start_time": "2025-01-28T23:06:45.498Z"
   },
   {
    "duration": 8,
    "start_time": "2025-01-28T23:06:48.567Z"
   },
   {
    "duration": 3425,
    "start_time": "2025-01-28T23:06:51.682Z"
   },
   {
    "duration": 2595,
    "start_time": "2025-01-28T23:07:07.977Z"
   },
   {
    "duration": 628,
    "start_time": "2025-01-28T23:15:44.142Z"
   },
   {
    "duration": 6,
    "start_time": "2025-01-28T23:16:15.554Z"
   },
   {
    "duration": 48,
    "start_time": "2025-01-28T23:16:18.645Z"
   },
   {
    "duration": 981,
    "start_time": "2025-01-28T23:16:29.800Z"
   },
   {
    "duration": 35,
    "start_time": "2025-01-28T23:16:32.524Z"
   },
   {
    "duration": 20,
    "start_time": "2025-01-28T23:16:34.442Z"
   },
   {
    "duration": 16,
    "start_time": "2025-01-28T23:16:36.529Z"
   },
   {
    "duration": 282,
    "start_time": "2025-01-28T23:16:39.316Z"
   },
   {
    "duration": 8,
    "start_time": "2025-01-28T23:16:42.231Z"
   },
   {
    "duration": 11,
    "start_time": "2025-01-28T23:16:44.478Z"
   },
   {
    "duration": 8,
    "start_time": "2025-01-28T23:16:47.272Z"
   },
   {
    "duration": 4057,
    "start_time": "2025-01-28T23:16:50.092Z"
   },
   {
    "duration": 913,
    "start_time": "2025-01-28T23:22:34.576Z"
   },
   {
    "duration": 944,
    "start_time": "2025-01-28T23:22:48.509Z"
   },
   {
    "duration": 31,
    "start_time": "2025-01-28T23:22:52.136Z"
   },
   {
    "duration": 19,
    "start_time": "2025-01-28T23:22:53.988Z"
   },
   {
    "duration": 15,
    "start_time": "2025-01-28T23:22:56.397Z"
   },
   {
    "duration": 269,
    "start_time": "2025-01-28T23:22:58.539Z"
   },
   {
    "duration": 8,
    "start_time": "2025-01-28T23:23:01.591Z"
   },
   {
    "duration": 11,
    "start_time": "2025-01-28T23:23:03.612Z"
   },
   {
    "duration": 8,
    "start_time": "2025-01-28T23:23:06.319Z"
   },
   {
    "duration": 4389,
    "start_time": "2025-01-28T23:23:10.118Z"
   },
   {
    "duration": 852,
    "start_time": "2025-01-28T23:28:24.753Z"
   },
   {
    "duration": 203,
    "start_time": "2025-01-28T23:32:33.076Z"
   },
   {
    "duration": 1115,
    "start_time": "2025-01-28T23:32:40.323Z"
   },
   {
    "duration": 36,
    "start_time": "2025-01-28T23:33:55.266Z"
   },
   {
    "duration": 18,
    "start_time": "2025-01-28T23:34:00.351Z"
   },
   {
    "duration": 14,
    "start_time": "2025-01-28T23:34:25.276Z"
   },
   {
    "duration": 297,
    "start_time": "2025-01-28T23:34:30.008Z"
   },
   {
    "duration": 7,
    "start_time": "2025-01-28T23:34:43.964Z"
   },
   {
    "duration": 10,
    "start_time": "2025-01-28T23:34:46.874Z"
   },
   {
    "duration": 6,
    "start_time": "2025-01-28T23:35:17.349Z"
   },
   {
    "duration": 6,
    "start_time": "2025-01-28T23:35:19.814Z"
   },
   {
    "duration": 6,
    "start_time": "2025-01-28T23:36:19.975Z"
   },
   {
    "duration": 268,
    "start_time": "2025-01-28T23:36:30.301Z"
   },
   {
    "duration": 240,
    "start_time": "2025-01-28T23:37:24.978Z"
   },
   {
    "duration": 256,
    "start_time": "2025-01-28T23:37:52.053Z"
   },
   {
    "duration": 259,
    "start_time": "2025-01-28T23:37:58.829Z"
   },
   {
    "duration": 2576,
    "start_time": "2025-01-28T23:39:33.214Z"
   },
   {
    "duration": 2520,
    "start_time": "2025-01-28T23:39:39.491Z"
   },
   {
    "duration": 12574,
    "start_time": "2025-01-28T23:39:54.967Z"
   },
   {
    "duration": 2630,
    "start_time": "2025-01-28T23:41:10.419Z"
   },
   {
    "duration": 1075,
    "start_time": "2025-01-28T23:46:48.595Z"
   },
   {
    "duration": 37,
    "start_time": "2025-01-28T23:46:51.320Z"
   },
   {
    "duration": 19,
    "start_time": "2025-01-28T23:46:53.027Z"
   },
   {
    "duration": 15,
    "start_time": "2025-01-28T23:46:55.405Z"
   },
   {
    "duration": 232,
    "start_time": "2025-01-28T23:46:57.682Z"
   },
   {
    "duration": 10,
    "start_time": "2025-01-28T23:47:00.491Z"
   },
   {
    "duration": 15,
    "start_time": "2025-01-28T23:47:02.611Z"
   },
   {
    "duration": 6,
    "start_time": "2025-01-28T23:47:06.683Z"
   },
   {
    "duration": 234,
    "start_time": "2025-01-28T23:47:10.646Z"
   },
   {
    "duration": 4147,
    "start_time": "2025-01-28T23:48:46.246Z"
   },
   {
    "duration": 2629,
    "start_time": "2025-01-28T23:48:59.450Z"
   },
   {
    "duration": 16254,
    "start_time": "2025-01-28T23:51:01.586Z"
   },
   {
    "duration": 1028,
    "start_time": "2025-01-28T23:54:17.277Z"
   },
   {
    "duration": 32,
    "start_time": "2025-01-28T23:54:21.464Z"
   },
   {
    "duration": 24,
    "start_time": "2025-01-28T23:54:23.600Z"
   },
   {
    "duration": 19,
    "start_time": "2025-01-28T23:54:25.808Z"
   },
   {
    "duration": 321,
    "start_time": "2025-01-28T23:54:28.301Z"
   },
   {
    "duration": 8,
    "start_time": "2025-01-28T23:54:31.173Z"
   },
   {
    "duration": 13,
    "start_time": "2025-01-28T23:54:33.758Z"
   },
   {
    "duration": 9,
    "start_time": "2025-01-28T23:54:40.539Z"
   },
   {
    "duration": 258,
    "start_time": "2025-01-28T23:55:19.736Z"
   },
   {
    "duration": 279,
    "start_time": "2025-01-28T23:57:18.636Z"
   },
   {
    "duration": 16,
    "start_time": "2025-01-28T23:57:24.082Z"
   },
   {
    "duration": 19,
    "start_time": "2025-01-28T23:59:24.782Z"
   },
   {
    "duration": 559387,
    "start_time": "2025-01-29T00:01:30.619Z"
   },
   {
    "duration": 2680,
    "start_time": "2025-01-29T14:44:12.111Z"
   },
   {
    "duration": 63,
    "start_time": "2025-01-29T14:44:16.783Z"
   },
   {
    "duration": 20,
    "start_time": "2025-01-29T14:44:18.712Z"
   },
   {
    "duration": 15,
    "start_time": "2025-01-29T14:44:20.656Z"
   },
   {
    "duration": 234,
    "start_time": "2025-01-29T14:44:22.885Z"
   },
   {
    "duration": 9,
    "start_time": "2025-01-29T14:44:25.428Z"
   },
   {
    "duration": 64,
    "start_time": "2025-01-29T14:44:27.205Z"
   },
   {
    "duration": 6,
    "start_time": "2025-01-29T14:44:29.226Z"
   },
   {
    "duration": 243,
    "start_time": "2025-01-29T14:44:31.272Z"
   },
   {
    "duration": 238,
    "start_time": "2025-01-29T14:44:34.196Z"
   },
   {
    "duration": 21,
    "start_time": "2025-01-29T14:44:47.653Z"
   },
   {
    "duration": 21,
    "start_time": "2025-01-29T14:44:56.910Z"
   },
   {
    "duration": 19,
    "start_time": "2025-01-29T14:45:13.018Z"
   },
   {
    "duration": 1307,
    "start_time": "2025-01-29T14:46:31.482Z"
   },
   {
    "duration": 1311,
    "start_time": "2025-01-29T14:47:14.623Z"
   },
   {
    "duration": 384,
    "start_time": "2025-01-29T14:50:27.933Z"
   },
   {
    "duration": 1020,
    "start_time": "2025-01-29T14:51:19.755Z"
   },
   {
    "duration": 32,
    "start_time": "2025-01-29T14:51:22.546Z"
   },
   {
    "duration": 20,
    "start_time": "2025-01-29T14:51:24.543Z"
   },
   {
    "duration": 15,
    "start_time": "2025-01-29T14:51:26.406Z"
   },
   {
    "duration": 252,
    "start_time": "2025-01-29T14:51:29.050Z"
   },
   {
    "duration": 8,
    "start_time": "2025-01-29T14:51:31.617Z"
   },
   {
    "duration": 10,
    "start_time": "2025-01-29T14:51:33.376Z"
   },
   {
    "duration": 17,
    "start_time": "2025-01-29T14:51:36.805Z"
   },
   {
    "duration": 1220,
    "start_time": "2025-01-29T14:51:41.553Z"
   },
   {
    "duration": 237,
    "start_time": "2025-01-29T14:51:54.737Z"
   },
   {
    "duration": 2308,
    "start_time": "2025-01-29T14:52:04.867Z"
   },
   {
    "duration": 292190,
    "start_time": "2025-01-29T14:52:14.078Z"
   },
   {
    "duration": 17,
    "start_time": "2025-01-29T14:58:12.495Z"
   },
   {
    "duration": 48,
    "start_time": "2025-01-29T14:58:33.008Z"
   },
   {
    "duration": 15573,
    "start_time": "2025-01-29T14:58:39.164Z"
   },
   {
    "duration": 15428,
    "start_time": "2025-01-29T14:59:28.493Z"
   },
   {
    "duration": 2460,
    "start_time": "2025-01-29T15:00:38.250Z"
   },
   {
    "duration": 5367,
    "start_time": "2025-01-29T15:11:21.529Z"
   },
   {
    "duration": 30,
    "start_time": "2025-01-29T15:23:36.873Z"
   },
   {
    "duration": 1281,
    "start_time": "2025-01-29T15:24:05.170Z"
   },
   {
    "duration": 3,
    "start_time": "2025-01-29T15:24:14.840Z"
   },
   {
    "duration": 13352,
    "start_time": "2025-01-29T15:24:25.312Z"
   },
   {
    "duration": 19,
    "start_time": "2025-01-29T15:24:42.678Z"
   },
   {
    "duration": 1107,
    "start_time": "2025-01-29T15:24:52.369Z"
   },
   {
    "duration": 40,
    "start_time": "2025-01-29T15:24:55.647Z"
   },
   {
    "duration": 20,
    "start_time": "2025-01-29T15:24:57.907Z"
   },
   {
    "duration": 15,
    "start_time": "2025-01-29T15:25:00.115Z"
   },
   {
    "duration": 242,
    "start_time": "2025-01-29T15:25:02.286Z"
   },
   {
    "duration": 8,
    "start_time": "2025-01-29T15:25:05.551Z"
   },
   {
    "duration": 11,
    "start_time": "2025-01-29T15:25:08.165Z"
   },
   {
    "duration": 7,
    "start_time": "2025-01-29T15:25:11.025Z"
   },
   {
    "duration": 18,
    "start_time": "2025-01-29T15:25:13.361Z"
   },
   {
    "duration": 2701,
    "start_time": "2025-01-29T15:25:15.507Z"
   },
   {
    "duration": 16811,
    "start_time": "2025-01-29T15:25:23.602Z"
   },
   {
    "duration": 2576,
    "start_time": "2025-01-29T15:25:58.582Z"
   },
   {
    "duration": 5609,
    "start_time": "2025-01-29T15:26:06.000Z"
   },
   {
    "duration": 5919,
    "start_time": "2025-01-29T15:26:23.441Z"
   },
   {
    "duration": 1092,
    "start_time": "2025-01-29T15:27:15.989Z"
   },
   {
    "duration": 32,
    "start_time": "2025-01-29T15:27:18.904Z"
   },
   {
    "duration": 19,
    "start_time": "2025-01-29T15:27:20.650Z"
   },
   {
    "duration": 18,
    "start_time": "2025-01-29T15:27:23.121Z"
   },
   {
    "duration": 17,
    "start_time": "2025-01-29T15:27:25.433Z"
   },
   {
    "duration": 250,
    "start_time": "2025-01-29T15:27:28.963Z"
   },
   {
    "duration": 8,
    "start_time": "2025-01-29T15:27:32.256Z"
   },
   {
    "duration": 11,
    "start_time": "2025-01-29T15:27:34.320Z"
   },
   {
    "duration": 7,
    "start_time": "2025-01-29T15:27:36.784Z"
   },
   {
    "duration": 17,
    "start_time": "2025-01-29T15:27:39.336Z"
   },
   {
    "duration": 2675,
    "start_time": "2025-01-29T15:27:41.417Z"
   },
   {
    "duration": 9900,
    "start_time": "2025-01-29T15:27:54.560Z"
   },
   {
    "duration": 346,
    "start_time": "2025-01-29T15:31:50.802Z"
   },
   {
    "duration": 3,
    "start_time": "2025-01-29T15:33:32.453Z"
   },
   {
    "duration": 143634,
    "start_time": "2025-01-29T15:33:37.409Z"
   },
   {
    "duration": 393254,
    "start_time": "2025-01-29T16:00:26.438Z"
   },
   {
    "duration": 976,
    "start_time": "2025-01-29T16:17:11.173Z"
   },
   {
    "duration": 40,
    "start_time": "2025-01-29T16:17:13.748Z"
   },
   {
    "duration": 35,
    "start_time": "2025-01-29T16:17:15.605Z"
   },
   {
    "duration": 18,
    "start_time": "2025-01-29T16:17:17.644Z"
   },
   {
    "duration": 289,
    "start_time": "2025-01-29T16:17:19.964Z"
   },
   {
    "duration": 11,
    "start_time": "2025-01-29T16:17:22.658Z"
   },
   {
    "duration": 35,
    "start_time": "2025-01-29T16:17:24.709Z"
   },
   {
    "duration": 7,
    "start_time": "2025-01-29T16:17:31.791Z"
   },
   {
    "duration": 17,
    "start_time": "2025-01-29T16:17:34.450Z"
   },
   {
    "duration": 2832,
    "start_time": "2025-01-29T16:17:36.504Z"
   },
   {
    "duration": 268,
    "start_time": "2025-01-29T16:17:42.303Z"
   },
   {
    "duration": 2694,
    "start_time": "2025-01-29T16:17:51.047Z"
   },
   {
    "duration": 90844,
    "start_time": "2025-01-29T16:18:07.730Z"
   },
   {
    "duration": 26,
    "start_time": "2025-01-29T16:24:52.625Z"
   },
   {
    "duration": 32,
    "start_time": "2025-01-29T16:25:05.453Z"
   },
   {
    "duration": 1202,
    "start_time": "2025-01-29T16:25:13.634Z"
   },
   {
    "duration": 1623,
    "start_time": "2025-01-29T16:26:21.857Z"
   },
   {
    "duration": 1304,
    "start_time": "2025-01-29T16:26:26.465Z"
   },
   {
    "duration": 1299,
    "start_time": "2025-01-29T16:27:26.541Z"
   },
   {
    "duration": 1469,
    "start_time": "2025-01-29T16:28:06.780Z"
   },
   {
    "duration": 3,
    "start_time": "2025-01-29T16:28:21.400Z"
   },
   {
    "duration": 2805,
    "start_time": "2025-01-29T16:29:10.676Z"
   },
   {
    "duration": 1411,
    "start_time": "2025-01-29T16:29:47.736Z"
   },
   {
    "duration": 1264,
    "start_time": "2025-01-29T16:29:57.752Z"
   },
   {
    "duration": 17,
    "start_time": "2025-01-29T16:30:49.969Z"
   },
   {
    "duration": 1256,
    "start_time": "2025-01-29T16:31:03.581Z"
   },
   {
    "duration": 22,
    "start_time": "2025-01-29T16:31:35.070Z"
   },
   {
    "duration": 4159,
    "start_time": "2025-01-29T16:32:46.841Z"
   },
   {
    "duration": 4079,
    "start_time": "2025-01-29T16:33:45.641Z"
   },
   {
    "duration": 1250,
    "start_time": "2025-01-29T16:33:59.021Z"
   },
   {
    "duration": 7295,
    "start_time": "2025-01-29T16:35:44.463Z"
   },
   {
    "duration": 33,
    "start_time": "2025-01-29T16:35:57.218Z"
   },
   {
    "duration": 1259,
    "start_time": "2025-01-29T16:36:04.782Z"
   },
   {
    "duration": 12,
    "start_time": "2025-01-29T16:36:24.840Z"
   },
   {
    "duration": 1005,
    "start_time": "2025-01-29T16:36:42.740Z"
   },
   {
    "duration": 42,
    "start_time": "2025-01-29T16:36:45.545Z"
   },
   {
    "duration": 21,
    "start_time": "2025-01-29T16:36:47.429Z"
   },
   {
    "duration": 17,
    "start_time": "2025-01-29T16:36:49.353Z"
   },
   {
    "duration": 267,
    "start_time": "2025-01-29T16:36:52.385Z"
   },
   {
    "duration": 9,
    "start_time": "2025-01-29T16:36:56.034Z"
   },
   {
    "duration": 10,
    "start_time": "2025-01-29T16:36:57.579Z"
   },
   {
    "duration": 6,
    "start_time": "2025-01-29T16:36:59.489Z"
   },
   {
    "duration": 17,
    "start_time": "2025-01-29T16:37:01.843Z"
   },
   {
    "duration": 2787,
    "start_time": "2025-01-29T16:37:04.269Z"
   },
   {
    "duration": 2741,
    "start_time": "2025-01-29T16:37:46.375Z"
   },
   {
    "duration": 44029,
    "start_time": "2025-01-29T16:37:55.433Z"
   },
   {
    "duration": 30,
    "start_time": "2025-01-29T16:40:37.809Z"
   },
   {
    "duration": 7,
    "start_time": "2025-01-29T16:40:46.794Z"
   },
   {
    "duration": 61065,
    "start_time": "2025-01-29T16:42:54.897Z"
   },
   {
    "duration": 40736,
    "start_time": "2025-01-29T16:48:24.125Z"
   },
   {
    "duration": 3,
    "start_time": "2025-01-29T16:49:44.136Z"
   },
   {
    "duration": 59767,
    "start_time": "2025-01-29T16:49:48.507Z"
   },
   {
    "duration": 25,
    "start_time": "2025-01-29T16:57:01.283Z"
   },
   {
    "duration": 3,
    "start_time": "2025-01-29T16:57:26.057Z"
   },
   {
    "duration": 29,
    "start_time": "2025-01-29T16:57:35.332Z"
   },
   {
    "duration": 5867,
    "start_time": "2025-01-29T16:58:06.436Z"
   },
   {
    "duration": 25,
    "start_time": "2025-01-29T16:58:24.641Z"
   },
   {
    "duration": 175,
    "start_time": "2025-01-29T16:58:48.229Z"
   },
   {
    "duration": 3,
    "start_time": "2025-01-29T17:00:21.373Z"
   },
   {
    "duration": 2830,
    "start_time": "2025-01-29T17:00:50.230Z"
   },
   {
    "duration": 1520,
    "start_time": "2025-01-29T17:01:41.951Z"
   },
   {
    "duration": 29,
    "start_time": "2025-01-29T17:01:50.232Z"
   },
   {
    "duration": 206,
    "start_time": "2025-01-29T17:01:57.517Z"
   },
   {
    "duration": 1519,
    "start_time": "2025-01-29T17:02:11.279Z"
   },
   {
    "duration": 13,
    "start_time": "2025-01-29T17:02:12.993Z"
   },
   {
    "duration": 2751,
    "start_time": "2025-01-29T17:02:40.900Z"
   },
   {
    "duration": 174,
    "start_time": "2025-01-29T17:03:06.345Z"
   },
   {
    "duration": 20,
    "start_time": "2025-01-29T17:03:21.451Z"
   },
   {
    "duration": 1467,
    "start_time": "2025-01-29T17:03:25.913Z"
   },
   {
    "duration": 3,
    "start_time": "2025-01-29T17:04:19.178Z"
   },
   {
    "duration": 2769,
    "start_time": "2025-01-29T17:05:04.360Z"
   },
   {
    "duration": 175,
    "start_time": "2025-01-29T17:05:18.775Z"
   },
   {
    "duration": 1515,
    "start_time": "2025-01-29T17:05:58.958Z"
   },
   {
    "duration": 178,
    "start_time": "2025-01-29T17:06:13.662Z"
   },
   {
    "duration": 4869,
    "start_time": "2025-01-29T17:06:28.333Z"
   },
   {
    "duration": 1258,
    "start_time": "2025-01-29T17:06:41.217Z"
   },
   {
    "duration": 56,
    "start_time": "2025-01-29T17:06:46.880Z"
   },
   {
    "duration": 39,
    "start_time": "2025-01-29T17:06:48.558Z"
   },
   {
    "duration": 20,
    "start_time": "2025-01-29T17:06:50.840Z"
   },
   {
    "duration": 19,
    "start_time": "2025-01-29T17:06:52.603Z"
   },
   {
    "duration": 324,
    "start_time": "2025-01-29T17:06:55.129Z"
   },
   {
    "duration": 14,
    "start_time": "2025-01-29T17:06:57.915Z"
   },
   {
    "duration": 10,
    "start_time": "2025-01-29T17:06:59.741Z"
   },
   {
    "duration": 7,
    "start_time": "2025-01-29T17:07:02.133Z"
   },
   {
    "duration": 24,
    "start_time": "2025-01-29T17:07:04.728Z"
   },
   {
    "duration": 2870,
    "start_time": "2025-01-29T17:07:06.930Z"
   },
   {
    "duration": 2765,
    "start_time": "2025-01-29T17:07:16.476Z"
   },
   {
    "duration": 84119,
    "start_time": "2025-01-29T17:07:27.086Z"
   },
   {
    "duration": 38691,
    "start_time": "2025-01-29T17:08:51.208Z"
   },
   {
    "duration": 37843,
    "start_time": "2025-01-29T17:11:35.561Z"
   },
   {
    "duration": 988,
    "start_time": "2025-01-29T17:18:38.399Z"
   },
   {
    "duration": 39,
    "start_time": "2025-01-29T17:18:41.495Z"
   },
   {
    "duration": 26,
    "start_time": "2025-01-29T17:18:43.133Z"
   },
   {
    "duration": 16,
    "start_time": "2025-01-29T17:18:46.278Z"
   },
   {
    "duration": 283,
    "start_time": "2025-01-29T17:18:48.726Z"
   },
   {
    "duration": 8,
    "start_time": "2025-01-29T17:18:52.775Z"
   },
   {
    "duration": 11,
    "start_time": "2025-01-29T17:18:54.550Z"
   },
   {
    "duration": 7,
    "start_time": "2025-01-29T17:19:25.015Z"
   },
   {
    "duration": 558,
    "start_time": "2025-01-29T17:20:04.934Z"
   },
   {
    "duration": 84,
    "start_time": "2025-01-29T17:20:14.894Z"
   },
   {
    "duration": 1038,
    "start_time": "2025-01-29T17:20:23.343Z"
   },
   {
    "duration": 33,
    "start_time": "2025-01-29T17:20:25.742Z"
   },
   {
    "duration": 21,
    "start_time": "2025-01-29T17:20:27.505Z"
   },
   {
    "duration": 16,
    "start_time": "2025-01-29T17:20:29.600Z"
   },
   {
    "duration": 282,
    "start_time": "2025-01-29T17:20:31.920Z"
   },
   {
    "duration": 9,
    "start_time": "2025-01-29T17:20:34.830Z"
   },
   {
    "duration": 11,
    "start_time": "2025-01-29T17:20:36.210Z"
   },
   {
    "duration": 655,
    "start_time": "2025-01-29T17:20:40.932Z"
   },
   {
    "duration": 1028,
    "start_time": "2025-01-29T17:21:08.341Z"
   },
   {
    "duration": 32,
    "start_time": "2025-01-29T17:21:11.401Z"
   },
   {
    "duration": 20,
    "start_time": "2025-01-29T17:21:13.486Z"
   },
   {
    "duration": 16,
    "start_time": "2025-01-29T17:21:15.542Z"
   },
   {
    "duration": 296,
    "start_time": "2025-01-29T17:21:18.292Z"
   },
   {
    "duration": 8,
    "start_time": "2025-01-29T17:21:20.844Z"
   },
   {
    "duration": 10,
    "start_time": "2025-01-29T17:21:23.566Z"
   },
   {
    "duration": 24,
    "start_time": "2025-01-29T17:21:27.804Z"
   },
   {
    "duration": 2713,
    "start_time": "2025-01-29T17:21:35.491Z"
   },
   {
    "duration": 2577,
    "start_time": "2025-01-29T17:23:11.950Z"
   },
   {
    "duration": 332134,
    "start_time": "2025-01-29T17:23:21.856Z"
   },
   {
    "duration": 38611,
    "start_time": "2025-01-29T17:29:35.860Z"
   },
   {
    "duration": 16,
    "start_time": "2025-01-29T17:30:50.723Z"
   },
   {
    "duration": 15,
    "start_time": "2025-01-29T17:32:30.213Z"
   },
   {
    "duration": 32599,
    "start_time": "2025-01-29T17:32:32.378Z"
   },
   {
    "duration": 35537,
    "start_time": "2025-01-29T17:36:44.499Z"
   },
   {
    "duration": 33187,
    "start_time": "2025-01-29T17:40:04.403Z"
   },
   {
    "duration": 1043,
    "start_time": "2025-01-29T17:43:27.983Z"
   },
   {
    "duration": 37,
    "start_time": "2025-01-29T17:43:31.095Z"
   },
   {
    "duration": 25,
    "start_time": "2025-01-29T17:43:33.958Z"
   },
   {
    "duration": 20,
    "start_time": "2025-01-29T17:43:35.885Z"
   },
   {
    "duration": 231,
    "start_time": "2025-01-29T17:43:38.270Z"
   },
   {
    "duration": 9,
    "start_time": "2025-01-29T17:43:40.857Z"
   },
   {
    "duration": 11,
    "start_time": "2025-01-29T17:43:42.786Z"
   },
   {
    "duration": 570,
    "start_time": "2025-01-29T17:44:15.505Z"
   },
   {
    "duration": 16,
    "start_time": "2025-01-29T17:44:29.334Z"
   },
   {
    "duration": 76296,
    "start_time": "2025-01-29T17:44:34.470Z"
   },
   {
    "duration": 2684,
    "start_time": "2025-01-29T17:45:50.768Z"
   },
   {
    "duration": 16,
    "start_time": "2025-01-29T17:45:53.454Z"
   },
   {
    "duration": 42802,
    "start_time": "2025-01-29T17:45:53.472Z"
   },
   {
    "duration": 2588,
    "start_time": "2025-01-29T17:46:53.584Z"
   },
   {
    "duration": 1064,
    "start_time": "2025-01-29T17:47:22.152Z"
   },
   {
    "duration": 33,
    "start_time": "2025-01-29T17:47:24.316Z"
   },
   {
    "duration": 20,
    "start_time": "2025-01-29T17:47:26.627Z"
   },
   {
    "duration": 17,
    "start_time": "2025-01-29T17:47:28.053Z"
   },
   {
    "duration": 240,
    "start_time": "2025-01-29T17:47:30.559Z"
   },
   {
    "duration": 9,
    "start_time": "2025-01-29T17:47:33.488Z"
   },
   {
    "duration": 11,
    "start_time": "2025-01-29T17:47:35.614Z"
   },
   {
    "duration": 19,
    "start_time": "2025-01-29T17:47:38.653Z"
   },
   {
    "duration": 2860,
    "start_time": "2025-01-29T17:47:41.087Z"
   },
   {
    "duration": 2564,
    "start_time": "2025-01-29T17:47:48.574Z"
   },
   {
    "duration": 40093,
    "start_time": "2025-01-29T17:47:58.372Z"
   },
   {
    "duration": 14,
    "start_time": "2025-01-29T17:48:38.467Z"
   },
   {
    "duration": 1026,
    "start_time": "2025-01-29T17:48:55.950Z"
   },
   {
    "duration": 32,
    "start_time": "2025-01-29T17:48:58.679Z"
   },
   {
    "duration": 19,
    "start_time": "2025-01-29T17:49:00.404Z"
   },
   {
    "duration": 17,
    "start_time": "2025-01-29T17:49:02.013Z"
   },
   {
    "duration": 242,
    "start_time": "2025-01-29T17:49:04.459Z"
   },
   {
    "duration": 9,
    "start_time": "2025-01-29T17:49:07.586Z"
   },
   {
    "duration": 11,
    "start_time": "2025-01-29T17:49:09.741Z"
   },
   {
    "duration": 20,
    "start_time": "2025-01-29T17:49:12.318Z"
   },
   {
    "duration": 2787,
    "start_time": "2025-01-29T17:49:14.574Z"
   },
   {
    "duration": 2619,
    "start_time": "2025-01-29T17:49:17.364Z"
   },
   {
    "duration": 331618,
    "start_time": "2025-01-29T17:49:23.366Z"
   },
   {
    "duration": 76088,
    "start_time": "2025-01-29T17:54:54.986Z"
   },
   {
    "duration": 39855,
    "start_time": "2025-01-29T17:56:11.076Z"
   },
   {
    "duration": 14,
    "start_time": "2025-01-29T17:56:50.934Z"
   },
   {
    "duration": 22042,
    "start_time": "2025-01-29T17:56:50.950Z"
   },
   {
    "duration": 37648,
    "start_time": "2025-01-29T18:00:02.256Z"
   },
   {
    "duration": 605,
    "start_time": "2025-01-29T18:00:39.910Z"
   },
   {
    "duration": 33094,
    "start_time": "2025-01-29T18:01:35.500Z"
   },
   {
    "duration": 1024,
    "start_time": "2025-01-29T18:02:17.759Z"
   },
   {
    "duration": 49,
    "start_time": "2025-01-29T18:02:20.699Z"
   },
   {
    "duration": 21,
    "start_time": "2025-01-29T18:02:22.565Z"
   },
   {
    "duration": 16,
    "start_time": "2025-01-29T18:02:24.317Z"
   },
   {
    "duration": 301,
    "start_time": "2025-01-29T18:02:26.511Z"
   },
   {
    "duration": 10,
    "start_time": "2025-01-29T18:02:29.348Z"
   },
   {
    "duration": 11,
    "start_time": "2025-01-29T18:02:31.111Z"
   },
   {
    "duration": 18,
    "start_time": "2025-01-29T18:02:34.138Z"
   },
   {
    "duration": 2741,
    "start_time": "2025-01-29T18:02:36.671Z"
   },
   {
    "duration": 2587,
    "start_time": "2025-01-29T18:02:39.413Z"
   },
   {
    "duration": 2571,
    "start_time": "2025-01-29T18:02:48.563Z"
   },
   {
    "duration": 1022,
    "start_time": "2025-01-29T18:03:05.161Z"
   },
   {
    "duration": 36,
    "start_time": "2025-01-29T18:03:06.185Z"
   },
   {
    "duration": 19,
    "start_time": "2025-01-29T18:03:06.222Z"
   },
   {
    "duration": 15,
    "start_time": "2025-01-29T18:03:06.243Z"
   },
   {
    "duration": 258,
    "start_time": "2025-01-29T18:03:06.260Z"
   },
   {
    "duration": 8,
    "start_time": "2025-01-29T18:03:06.520Z"
   },
   {
    "duration": 9,
    "start_time": "2025-01-29T18:03:06.530Z"
   },
   {
    "duration": 17,
    "start_time": "2025-01-29T18:03:06.541Z"
   },
   {
    "duration": 2760,
    "start_time": "2025-01-29T18:03:06.560Z"
   },
   {
    "duration": 2596,
    "start_time": "2025-01-29T18:03:09.322Z"
   },
   {
    "duration": 332764,
    "start_time": "2025-01-29T18:03:11.920Z"
   },
   {
    "duration": 40851,
    "start_time": "2025-01-29T18:08:44.686Z"
   },
   {
    "duration": 38675,
    "start_time": "2025-01-29T18:09:25.540Z"
   },
   {
    "duration": 622,
    "start_time": "2025-01-29T18:10:04.217Z"
   },
   {
    "duration": 0,
    "start_time": "2025-01-29T18:10:04.840Z"
   },
   {
    "duration": 1038,
    "start_time": "2025-01-29T18:11:06.556Z"
   },
   {
    "duration": 38,
    "start_time": "2025-01-29T18:11:07.597Z"
   },
   {
    "duration": 19,
    "start_time": "2025-01-29T18:11:07.636Z"
   },
   {
    "duration": 14,
    "start_time": "2025-01-29T18:11:07.656Z"
   },
   {
    "duration": 268,
    "start_time": "2025-01-29T18:11:07.673Z"
   },
   {
    "duration": 7,
    "start_time": "2025-01-29T18:11:07.943Z"
   },
   {
    "duration": 10,
    "start_time": "2025-01-29T18:11:07.953Z"
   },
   {
    "duration": 18,
    "start_time": "2025-01-29T18:11:07.964Z"
   },
   {
    "duration": 2728,
    "start_time": "2025-01-29T18:11:07.983Z"
   },
   {
    "duration": 2589,
    "start_time": "2025-01-29T18:11:10.716Z"
   },
   {
    "duration": 332169,
    "start_time": "2025-01-29T18:11:13.310Z"
   },
   {
    "duration": 38169,
    "start_time": "2025-01-29T18:16:45.480Z"
   },
   {
    "duration": 368,
    "start_time": "2025-01-29T18:17:23.650Z"
   },
   {
    "duration": 0,
    "start_time": "2025-01-29T18:17:24.019Z"
   },
   {
    "duration": 1651,
    "start_time": "2025-01-29T18:23:45.948Z"
   },
   {
    "duration": 4085,
    "start_time": "2025-01-29T18:24:05.375Z"
   },
   {
    "duration": 20,
    "start_time": "2025-01-29T18:24:15.004Z"
   },
   {
    "duration": 1630,
    "start_time": "2025-01-29T18:25:16.332Z"
   },
   {
    "duration": 998,
    "start_time": "2025-01-29T18:25:38.175Z"
   },
   {
    "duration": 37,
    "start_time": "2025-01-29T18:25:39.175Z"
   },
   {
    "duration": 19,
    "start_time": "2025-01-29T18:25:39.213Z"
   },
   {
    "duration": 15,
    "start_time": "2025-01-29T18:25:39.234Z"
   },
   {
    "duration": 262,
    "start_time": "2025-01-29T18:25:39.253Z"
   },
   {
    "duration": 9,
    "start_time": "2025-01-29T18:25:39.517Z"
   },
   {
    "duration": 9,
    "start_time": "2025-01-29T18:25:39.528Z"
   },
   {
    "duration": 17,
    "start_time": "2025-01-29T18:25:39.539Z"
   },
   {
    "duration": 2690,
    "start_time": "2025-01-29T18:25:39.558Z"
   },
   {
    "duration": 2596,
    "start_time": "2025-01-29T18:25:42.249Z"
   },
   {
    "duration": 330589,
    "start_time": "2025-01-29T18:25:44.847Z"
   },
   {
    "duration": 1896,
    "start_time": "2025-01-29T18:31:15.438Z"
   },
   {
    "duration": 4094,
    "start_time": "2025-01-29T18:31:17.336Z"
   },
   {
    "duration": 341,
    "start_time": "2025-01-29T18:31:21.434Z"
   },
   {
    "duration": 19,
    "start_time": "2025-01-29T18:32:53.115Z"
   },
   {
    "duration": 22,
    "start_time": "2025-01-29T18:34:17.762Z"
   },
   {
    "duration": 17,
    "start_time": "2025-01-29T18:35:16.490Z"
   },
   {
    "duration": 3,
    "start_time": "2025-01-29T18:35:20.954Z"
   },
   {
    "duration": 127,
    "start_time": "2025-01-29T18:35:39.350Z"
   },
   {
    "duration": 1045,
    "start_time": "2025-01-29T18:35:59.556Z"
   },
   {
    "duration": 38,
    "start_time": "2025-01-29T18:36:00.604Z"
   },
   {
    "duration": 19,
    "start_time": "2025-01-29T18:36:00.644Z"
   },
   {
    "duration": 15,
    "start_time": "2025-01-29T18:36:00.665Z"
   },
   {
    "duration": 270,
    "start_time": "2025-01-29T18:36:00.682Z"
   },
   {
    "duration": 8,
    "start_time": "2025-01-29T18:36:00.954Z"
   },
   {
    "duration": 11,
    "start_time": "2025-01-29T18:36:00.963Z"
   },
   {
    "duration": 38,
    "start_time": "2025-01-29T18:36:00.975Z"
   },
   {
    "duration": 2711,
    "start_time": "2025-01-29T18:36:01.014Z"
   },
   {
    "duration": 2571,
    "start_time": "2025-01-29T18:36:03.727Z"
   },
   {
    "duration": 330294,
    "start_time": "2025-01-29T18:36:06.299Z"
   },
   {
    "duration": 1997,
    "start_time": "2025-01-29T18:41:36.595Z"
   },
   {
    "duration": 4067,
    "start_time": "2025-01-29T18:41:38.594Z"
   },
   {
    "duration": 129,
    "start_time": "2025-01-29T18:41:42.665Z"
   },
   {
    "duration": 1287,
    "start_time": "2025-01-29T18:52:12.431Z"
   },
   {
    "duration": 835,
    "start_time": "2025-01-29T18:52:23.115Z"
   },
   {
    "duration": 1625,
    "start_time": "2025-01-29T18:52:41.075Z"
   }
  ],
  "kernelspec": {
   "display_name": "Python 3 (ipykernel)",
   "language": "python",
   "name": "python3"
  },
  "language_info": {
   "codemirror_mode": {
    "name": "ipython",
    "version": 3
   },
   "file_extension": ".py",
   "mimetype": "text/x-python",
   "name": "python",
   "nbconvert_exporter": "python",
   "pygments_lexer": "ipython3",
   "version": "3.9.19"
  },
  "toc": {
   "base_numbering": 1,
   "nav_menu": {},
   "number_sections": true,
   "sideBar": true,
   "skip_h1_title": true,
   "title_cell": "Table of Contents",
   "title_sidebar": "Contents",
   "toc_cell": false,
   "toc_position": {},
   "toc_section_display": true,
   "toc_window_display": false
  }
 },
 "nbformat": 4,
 "nbformat_minor": 2
}
